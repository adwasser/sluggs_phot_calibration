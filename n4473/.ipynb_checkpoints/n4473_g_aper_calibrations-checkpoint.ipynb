{
 "cells": [
  {
   "cell_type": "markdown",
   "metadata": {},
   "source": [
    "### Typical Imports, plus some useful functions "
   ]
  },
  {
   "cell_type": "code",
   "execution_count": 8,
   "metadata": {
    "collapsed": false
   },
   "outputs": [
    {
     "data": {
      "text/plain": [
       "<module 'aperCor' from '/Users/zjennings/astro/sluggs_phot_calibration/aperCor.py'>"
      ]
     },
     "execution_count": 8,
     "metadata": {},
     "output_type": "execute_result"
    }
   ],
   "source": [
    "%matplotlib inline\n",
    "import numpy as np\n",
    "import matplotlib.pyplot as plt\n",
    "import os\n",
    "import aperCor\n",
    "\n",
    "import seaborn as sea\n",
    "\n",
    "import imp\n",
    "imp.reload(aperCor)"
   ]
  },
  {
   "cell_type": "markdown",
   "metadata": {},
   "source": [
    "### Run our photometry, using the .sex config file that you've already defined for this observation."
   ]
  },
  {
   "cell_type": "code",
   "execution_count": 3,
   "metadata": {
    "collapsed": true
   },
   "outputs": [],
   "source": [
    "#location of the imaging file directory. modify this for your own purposes\n",
    "directory = ''\n",
    "\n",
    "#name of the image file\n",
    "file = directory+'n4473_g.fits'\n",
    "\n",
    "#name of the config file\n",
    "config_file = 'n4473_g_aper.seconfig'\n",
    "\n",
    "#sepcify the apertures used. I recommend about a dozen total apertures, \n",
    "apers = np.array([4,5,6,8,10,15,20,40,50,60,70,80,90,100])"
   ]
  },
  {
   "cell_type": "code",
   "execution_count": 4,
   "metadata": {
    "collapsed": false
   },
   "outputs": [],
   "source": [
    "#after everything specified and all config files are saved, can run sextractor using this command\n",
    "run = os.system(\"sex -c \"+ config_file + ' ' + file)"
   ]
  },
  {
   "cell_type": "code",
   "execution_count": 5,
   "metadata": {
    "collapsed": false
   },
   "outputs": [],
   "source": [
    "#read in the data. take this catalog name from what you specified for the above file.\n",
    "data = np.loadtxt('n4473_g_aper.cat')"
   ]
  },
  {
   "cell_type": "markdown",
   "metadata": {},
   "source": [
    "### Make the magnitude vs. aperture difference plot to select reasonable locus of stars to choose from.\n",
    "Iterate on fwhm_max, fwhm_min, saturation and faint cuts to select reasonable sample.\n",
    "\n",
    "meas_aper corresponds to the index of the aperture array to select the photometry value that we will use to measure.\n",
    "\n",
    "cor_aper corresponds to the index of the aperture array to correct stars to. "
   ]
  },
  {
   "cell_type": "code",
   "execution_count": 17,
   "metadata": {
    "collapsed": false
   },
   "outputs": [
    {
     "name": "stderr",
     "output_type": "stream",
     "text": [
      "/Users/zjennings/astro/sluggs_phot_calibration/aperCor.py:49: VisibleDeprecationWarning: using a non-integer number instead of an integer will result in an error in the future\n",
      "  merrs = data[:,n_apers+2:(2.*n_apers)+2]\n"
     ]
    },
    {
     "data": {
      "image/png": "[encoded data removed]",
      "text/plain": [
       "<matplotlib.figure.Figure at 0x11152da20>"
      ]
     },
     "metadata": {},
     "output_type": "display_data"
    }
   ],
   "source": [
    "#iterate on these values to select a reasonable stellar locus. Initially set wide values and then\n",
    "#narrow down to select reasonable locus.\n",
    "fwhm_max = 3.7   #maximum FWHM measurement to select\n",
    "\n",
    "fwhm_min = 3.3  #minimum FWHM to select out a reasonable locus of stars\n",
    "\n",
    "sat_cut = 19     #bright limiting magnitude. \n",
    "#Stars above this may be saturated, usually set to left end of main stellar locus\n",
    "\n",
    "faint_cut = 22  #faint limiting magnitude. Select at point where locus seems to expand, stars below this\n",
    "#too noisy to get good constraint from\n",
    "\n",
    "init_meas_aper = 3 #initial aperture for making the difference plot. Anything around 5-10 pix is fine, will refine\n",
    "#later\n",
    "\n",
    "init_cor_aper = 8 #initial correction aperture for making difference plot. Anything around ~30 pix is fine,\n",
    "#will also refine later.\n",
    "\n",
    "aper_cor,good = aperCor.calc_aper_cor(data,meas_aper=init_meas_aper,cor_aper=init_cor_aper,\\\n",
    "                                      fwhm_max=fwhm_max,fwhm_min=fwhm_min,\\\n",
    "                                      sat_cut=sat_cut,faint_cut=faint_cut)\n",
    "aperCor.make_diff_plot(data,good,meas_aper=init_meas_aper,cor_aper=init_cor_aper,xlim=(17,24),ylim=(-2,2))"
   ]
  },
  {
   "cell_type": "markdown",
   "metadata": {},
   "source": [
    "###### Make the merr plot to determine which aperture to use.\n",
    "Here either 8 pix is lowest, which corresponds to the 4th aperture (index = 3).\n"
   ]
  },
  {
   "cell_type": "code",
   "execution_count": 20,
   "metadata": {
    "collapsed": false
   },
   "outputs": [
    {
     "name": "stderr",
     "output_type": "stream",
     "text": [
      "/Users/zjennings/astro/sluggs_phot_calibration/aperCor.py:32: VisibleDeprecationWarning: using a non-integer number instead of an integer will result in an error in the future\n",
      "  return data[:,n_apers+2:(2.*n_apers)+2]\n"
     ]
    },
    {
     "data": {
      "text/plain": [
       "<matplotlib.lines.Line2D at 0x1115f3cc0>"
      ]
     },
     "execution_count": 20,
     "metadata": {},
     "output_type": "execute_result"
    },
    {
     "data": {
      "image/png": "[encoded data removed]",
      "text/plain": [
       "<matplotlib.figure.Figure at 0x117c53a20>"
      ]
     },
     "metadata": {},
     "output_type": "display_data"
    }
   ],
   "source": [
    "aperCor.make_merr_plot(data[good,:],apers)\n",
    "plt.axvline(apers[3]) #just a visual guide to pick the aperture"
   ]
  },
  {
   "cell_type": "code",
   "execution_count": 21,
   "metadata": {
    "collapsed": false
   },
   "outputs": [],
   "source": [
    "#once selected, fix the final measurement aperture\n",
    "fin_meas_aper = 3"
   ]
  },
  {
   "cell_type": "markdown",
   "metadata": {},
   "source": [
    "### Make the COG plot to determine which aperture to correct magnitudes to. \n",
    "Just pick the lowest value that the COG seems to flatten out at. However, best not to go past 50 unless the COG looks weird, scatter increases significantly down there. Here I just picked 40 pix, which seemed reasonable to me."
   ]
  },
  {
   "cell_type": "code",
   "execution_count": 23,
   "metadata": {
    "collapsed": false
   },
   "outputs": [
    {
     "data": {
      "image/png": "[encoded data removed]",
      "text/plain": [
       "<matplotlib.figure.Figure at 0x117c53be0>"
      ]
     },
     "metadata": {},
     "output_type": "display_data"
    }
   ],
   "source": [
    "aperCor.make_cog_plot(data[good,:],apers,ylim=(-0.6,0.2),cor_aper=10,meas_aper=fin_meas_aper)"
   ]
  },
  {
   "cell_type": "code",
   "execution_count": 24,
   "metadata": {
    "collapsed": true
   },
   "outputs": [],
   "source": [
    "#once selected, fix the final correction aperture\n",
    "fin_cor_aper = 10"
   ]
  },
  {
   "cell_type": "markdown",
   "metadata": {},
   "source": [
    "### Now that the meas_aper and cor_aper have been determined, re-calculate the final aperture correction value.\n",
    "Also want to double check to make sure the stellar locus still looks reasonable now that final apertures have been selected."
   ]
  },
  {
   "cell_type": "code",
   "execution_count": 25,
   "metadata": {
    "collapsed": false
   },
   "outputs": [
    {
     "name": "stderr",
     "output_type": "stream",
     "text": [
      "/Users/zjennings/astro/sluggs_phot_calibration/aperCor.py:49: VisibleDeprecationWarning: using a non-integer number instead of an integer will result in an error in the future\n",
      "  merrs = data[:,n_apers+2:(2.*n_apers)+2]\n"
     ]
    },
    {
     "data": {
      "image/png": "[encoded data removed]",
      "text/plain": [
       "<matplotlib.figure.Figure at 0x11156fc18>"
      ]
     },
     "metadata": {},
     "output_type": "display_data"
    }
   ],
   "source": [
    "aper_cor,good = aperCor.calc_aper_cor(data,meas_aper=fin_meas_aper,cor_aper=fin_cor_aper,\\\n",
    "                                      fwhm_max=fwhm_max,fwhm_min=fwhm_min,\\\n",
    "                                      sat_cut=sat_cut,faint_cut=faint_cut)\n",
    "aperCor.make_diff_plot(data,good,meas_aper=fin_meas_aper,cor_aper=fin_cor_aper,xlim=(17,24))"
   ]
  },
  {
   "cell_type": "code",
   "execution_count": 26,
   "metadata": {
    "collapsed": false
   },
   "outputs": [
    {
     "name": "stdout",
     "output_type": "stream",
     "text": [
      "0.19995\n"
     ]
    }
   ],
   "source": [
    "print(aper_cor)"
   ]
  },
  {
   "cell_type": "markdown",
   "metadata": {},
   "source": [
    "### Finally, write out the photometry catalog measured from the correct aperture. \n",
    "\n",
    "I don't apply the aperture correction here, but do note it for future use. I actually apply it later when I'm doing zero-point corrections."
   ]
  },
  {
   "cell_type": "code",
   "execution_count": 27,
   "metadata": {
    "collapsed": false
   },
   "outputs": [],
   "source": [
    "n_aper = apers.shape[0]\n",
    "meas_aper = fin_meas_aper \n",
    "uncorrected_data = np.array([data[:,0],data[:,1],data[:,meas_aper+2],data[:,meas_aper+n_aper+2],data[:,-3],data[:,-2],data[:,-1]]).T\n",
    "np.savetxt('n4473_g_uncorrected.csv',uncorrected_data,delimiter=' ',fmt='%10.10f')"
   ]
  },
  {
   "cell_type": "code",
   "execution_count": null,
   "metadata": {
    "collapsed": true
   },
   "outputs": [],
   "source": []
  }
 ],
 "metadata": {
  "anaconda-cloud": {},
  "kernelspec": {
   "display_name": "Python [astro]",
   "language": "python",
   "name": "Python [astro]"
  },
  "language_info": {
   "codemirror_mode": {
    "name": "ipython",
    "version": 3
   },
   "file_extension": ".py",
   "mimetype": "text/x-python",
   "name": "python",
   "nbconvert_exporter": "python",
   "pygments_lexer": "ipython3",
   "version": "3.5.2"
  }
 },
 "nbformat": 4,
 "nbformat_minor": 0
}
