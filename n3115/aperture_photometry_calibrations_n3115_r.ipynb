{
 "cells": [
  {
   "cell_type": "markdown",
   "metadata": {},
   "source": [
    "### Typical Imports, plus some useful functions "
   ]
  },
  {
   "cell_type": "code",
   "execution_count": 2,
   "metadata": {
    "collapsed": false
   },
   "outputs": [
    {
     "data": {
      "text/plain": [
       "<module 'aperCor' from '/Users/zjennings/astro/sluggs_phot_calibration/aperCor.py'>"
      ]
     },
     "execution_count": 2,
     "metadata": {},
     "output_type": "execute_result"
    }
   ],
   "source": [
    "%matplotlib inline\n",
    "import numpy as np\n",
    "import matplotlib.pyplot as plt\n",
    "import os\n",
    "import aperCor\n",
    "\n",
    "import imp\n",
    "imp.reload(aperCor)"
   ]
  },
  {
   "cell_type": "markdown",
   "metadata": {},
   "source": [
    "### Run our photometry, using the .sex config file that you've already defined for this observation."
   ]
  },
  {
   "cell_type": "code",
   "execution_count": 3,
   "metadata": {
    "collapsed": false
   },
   "outputs": [],
   "source": [
    "#location of the imaging file directory. modify this for your own purposes\n",
    "directory = ''\n",
    "\n",
    "#name of the image file\n",
    "file = directory+'RUSNO.fits'\n",
    "\n",
    "#name of the config file\n",
    "config_file = 'RUSNO.R_aper.seconfig'\n",
    "\n",
    "#sepcify the apertures used. I recommend about a dozen total apertures, \n",
    "apers = np.array([3,6,9,12,15,18,21,24,27,30,33,36,39,42])"
   ]
  },
  {
   "cell_type": "markdown",
   "metadata": {},
   "source": [
    "###### Sample configuration file. Save this using the config_file name you define above, in the appropriate directory.\n",
    "Make sure to update catalog_name, parameter file name, and the aperture list as we defined them above. Other values may need to be tweaked on a case-by-case basis, but no easy defined methodology for that yet."
   ]
  },
  {
   "cell_type": "code",
   "execution_count": 4,
   "metadata": {
    "collapsed": false
   },
   "outputs": [
    {
     "ename": "SyntaxError",
     "evalue": "invalid syntax (<ipython-input-4-b39954fad719>, line 7)",
     "output_type": "error",
     "traceback": [
      "\u001b[0;36m  File \u001b[0;32m\"<ipython-input-4-b39954fad719>\"\u001b[0;36m, line \u001b[0;32m7\u001b[0m\n\u001b[0;31m    CATALOG_NAME     i_bg1_aper_cor.cat       # name of the output catalog\u001b[0m\n\u001b[0m                                  ^\u001b[0m\n\u001b[0;31mSyntaxError\u001b[0m\u001b[0;31m:\u001b[0m invalid syntax\n"
     ]
    }
   ],
   "source": [
    "# Default configuration file for SExtractor 2.19.5\n",
    "# EB 2016-10-05\n",
    "#\n",
    " \n",
    "#-------------------------------- Catalog ------------------------------------\n",
    " \n",
    "CATALOG_NAME     i_bg1_aper_cor.cat       # name of the output catalog\n",
    "CATALOG_TYPE     ASCII_HEAD     # NONE,ASCII,ASCII_HEAD, ASCII_SKYCAT,\n",
    "                                # ASCII_VOTABLE, FITS_1.0 or FITS_LDAC\n",
    "PARAMETERS_NAME  apertures.param  # name of the file containing catalog contents\n",
    " \n",
    "#------------------------------- Extraction ----------------------------------\n",
    " \n",
    "DETECT_TYPE      CCD            # CCD (linear) or PHOTO (with gamma correction)\n",
    "DETECT_MINAREA   5              # min. # of pixels above threshold\n",
    "DETECT_MAXAREA   0              # max. # of pixels above threshold (0=unlimited)\n",
    "THRESH_TYPE      RELATIVE       # threshold type: RELATIVE (in sigmas)\n",
    "                                # or ABSOLUTE (in ADUs)\n",
    "DETECT_THRESH    1.5            # <sigmas> or <threshold>,<ZP> in mag.arcsec-2\n",
    "ANALYSIS_THRESH  1.5            # <sigmas> or <threshold>,<ZP> in mag.arcsec-2\n",
    " \n",
    "FILTER           Y              # apply filter for detection (Y or N)?\n",
    "FILTER_NAME      ../default.conv   # name of the file containing the filter\n",
    "FILTER_THRESH                   # Threshold[s] for retina filtering\n",
    " \n",
    "DEBLEND_NTHRESH  32             # Number of deblending sub-thresholds\n",
    "DEBLEND_MINCONT  0.005          # Minimum contrast parameter for deblending\n",
    " \n",
    "CLEAN            Y              # Clean spurious detections? (Y or N)?\n",
    "CLEAN_PARAM      1.0            # Cleaning efficiency\n",
    " \n",
    "MASK_TYPE        CORRECT        # type of detection MASKing: can be one of\n",
    "                                # NONE, BLANK or CORRECT\n",
    " \n",
    "#-------------------------------- WEIGHTing ----------------------------------\n",
    "\n",
    "WEIGHT_TYPE      NONE           # type of WEIGHTing: NONE, BACKGROUND,\n",
    "                                # MAP_RMS, MAP_VAR or MAP_WEIGHT\n",
    "RESCALE_WEIGHTS  Y              # Rescale input weights/variances (Y/N)?\n",
    "WEIGHT_IMAGE     weight.fits    # weight-map filename\n",
    "WEIGHT_GAIN      Y              # modulate gain (E/ADU) with weights? (Y/N)\n",
    "WEIGHT_THRESH                   # weight threshold[s] for bad pixels\n",
    "\n",
    "#-------------------------------- FLAGging -----------------------------------\n",
    "\n",
    "#FLAG_IMAGE       flag.fits      # filename for an input FLAG-image\n",
    "#FLAG_TYPE        OR             # flag pixel combination: OR, AND, MIN, MAX\n",
    "                                # or MOST\n",
    "\n",
    "#------------------------------ Photometry -----------------------------------\n",
    " \n",
    "PHOT_APERTURES   3,6,9,12,15,18,21,24,27,30,33,36,39,42             # MAG_APER aperture diameter(s) in pixels\n",
    "PHOT_AUTOPARAMS  2.5, 3.5       # MAG_AUTO parameters: <Kron_fact>,<min_radius>\n",
    "PHOT_PETROPARAMS 2.0, 3.5       # MAG_PETRO parameters: <Petrosian_fact>,\n",
    "                                # <min_radius>\n",
    "PHOT_AUTOAPERS   0.0,0.0        # <estimation>,<measurement> minimum apertures\n",
    "                                # for MAG_AUTO and MAG_PETRO\n",
    "PHOT_FLUXFRAC    0.5            # flux fraction[s] used for FLUX_RADIUS\n",
    " \n",
    "SATUR_LEVEL      50000.0        # level (in ADUs) at which arises saturation\n",
    "SATUR_KEY        SATURATE       # keyword for saturation level (in ADUs)\n",
    " \n",
    "MAG_ZEROPOINT    30.0            # magnitude zero-point\n",
    "MAG_GAMMA        4.0            # gamma of emulsion (for photographic scans)\n",
    "GAIN             1.62           # detector gain in e-/ADU\n",
    "GAIN_KEY         GAIN           # keyword for detector gain in e-/ADU\n",
    "PIXEL_SCALE      0.187            # size of pixel in arcsec (0=use FITS WCS info)\n",
    " \n",
    "#------------------------- Star/Galaxy Separation ----------------------------\n",
    " \n",
    "#SEEING_FWHM      0.8           # stellar FWHM in arcsec\n",
    "#STARNNW_NAME     default.nnw    # Neural-Network_Weight table filename\n",
    " \n",
    "#------------------------------ Background -----------------------------------\n",
    " \n",
    "BACK_TYPE        MANUAL           # AUTO or MANUAL\n",
    "BACK_VALUE       0.0            # Default background value in MANUAL mode\n",
    "BACK_SIZE        512             # Background mesh: <size> or <width>,<height>\n",
    "BACK_FILTERSIZE  1              # Background filter: <size> or <width>,<height>\n",
    " \n",
    "BACKPHOTO_TYPE   GLOBAL         # can be GLOBAL or LOCAL\n",
    "BACKPHOTO_THICK  24             # thickness of the background LOCAL annulus\n",
    "BACK_FILTTHRESH  0.0            # Threshold above which the background-\n",
    "                                # map filter operates\n",
    " \n",
    "#------------------------------ Check Image ----------------------------------\n",
    " \n",
    "CHECKIMAGE_TYPE  NONE           # can be NONE, BACKGROUND, BACKGROUND_RMS,\n",
    "                                # MINIBACKGROUND, MINIBACK_RMS, -BACKGROUND,\n",
    "                                # FILTERED, OBJECTS, -OBJECTS, SEGMENTATION,\n",
    "                                # or APERTURES\n",
    "CHECKIMAGE_NAME       # Filename for the check-image\n",
    " \n",
    "#--------------------- Memory (change with caution!) -------------------------\n",
    " \n",
    "MEMORY_OBJSTACK  3000           # number of objects in stack\n",
    "MEMORY_PIXSTACK  300000         # number of pixels in stack\n",
    "MEMORY_BUFSIZE   1024           # number of lines in buffer\n",
    " \n",
    "#------------------------------- ASSOCiation ---------------------------------\n",
    "\n",
    "ASSOC_NAME       sky.list       # name of the ASCII file to ASSOCiate\n",
    "ASSOC_DATA       2,3,4          # columns of the data to replicate (0=all)\n",
    "ASSOC_PARAMS     2,3,4          # columns of xpos,ypos[,mag]\n",
    "ASSOCCOORD_TYPE  PIXEL          # ASSOC coordinates: PIXEL or WORLD\n",
    "ASSOC_RADIUS     2.0            # cross-matching radius (pixels)\n",
    "ASSOC_TYPE       NEAREST        # ASSOCiation method: FIRST, NEAREST, MEAN,\n",
    "                                # MAG_MEAN, SUM, MAG_SUM, MIN or MAX\n",
    "ASSOCSELEC_TYPE  MATCHED        # ASSOC selection type: ALL, MATCHED or -MATCHED\n",
    "\n",
    "#----------------------------- Miscellaneous ---------------------------------\n",
    " \n",
    "VERBOSE_TYPE     NORMAL         # can be QUIET, NORMAL or FULL\n",
    "HEADER_SUFFIX    .head          # Filename extension for additional headers\n",
    "WRITE_XML        N              # Write XML file (Y/N)?\n",
    "XML_NAME         sex.xml        # Filename for XML output\n",
    "XSL_URL          file:///usr/local/Cellar/sextractor/2.19.5/share/sextractor/sextractor.xsl\n",
    "                                # Filename for XSL style-sheet\n",
    "NTHREADS         1              # 1 single thread\n",
    "\n",
    "FITS_UNSIGNED    N              # Treat FITS integer values as unsigned (Y/N)?\n",
    "INTERP_MAXXLAG   16             # Max. lag along X for 0-weight interpolation\n",
    "INTERP_MAXYLAG   16             # Max. lag along Y for 0-weight interpolation\n",
    "INTERP_TYPE      ALL            # Interpolation type: NONE, VAR_ONLY or ALL\n",
    "\n",
    "#--------------------------- Experimental Stuff -----------------------------\n",
    "\n",
    "PSF_NAME         default.psf    # File containing the PSF model\n",
    "PSF_NMAX         1              # Max.number of PSFs fitted simultaneously\n",
    "PATTERN_TYPE     RINGS-HARMONIC # can RINGS-QUADPOLE, RINGS-OCTOPOLE,\n",
    "                                # RINGS-HARMONICS or GAUSS-LAGUERRE\n",
    "SOM_NAME         default.som    # File containing Self-Organizing Map weights\n"
   ]
  },
  {
   "cell_type": "markdown",
   "metadata": {},
   "source": [
    "###### Sample parameter file. Save this using the parameter file name you defined in the .seconfig file above, same directory as specified above.\n",
    "Make sure that order follows the pattern below, including the same number of apertures as you choose to specify in the above file."
   ]
  },
  {
   "cell_type": "code",
   "execution_count": 5,
   "metadata": {
    "collapsed": false
   },
   "outputs": [
    {
     "ename": "SyntaxError",
     "evalue": "invalid syntax (<ipython-input-5-47560b7fcb43>, line 1)",
     "output_type": "error",
     "traceback": [
      "\u001b[0;36m  File \u001b[0;32m\"<ipython-input-5-47560b7fcb43>\"\u001b[0;36m, line \u001b[0;32m1\u001b[0m\n\u001b[0;31m    ALPHA_J2000              Right ascension of barycenter (J2000)                     [deg]\u001b[0m\n\u001b[0m                                 ^\u001b[0m\n\u001b[0;31mSyntaxError\u001b[0m\u001b[0;31m:\u001b[0m invalid syntax\n"
     ]
    }
   ],
   "source": [
    "ALPHA_J2000              Right ascension of barycenter (J2000)                     [deg]\n",
    "DELTA_J2000              Declination of barycenter (J2000)                         [deg]\n",
    "MAG_APER(1)                 #Fixed aperture magnitude vector                           [mag]\n",
    "MAGERR_APER(1)              #Fixed aperture magnitude vector                           [mag]\n",
    "MAG_APER(2)                 #Fixed aperture magnitude vector                           [mag]\n",
    "MAGERR_APER(2)              #Fixed aperture magnitude vector                           [mag]\n",
    "MAG_APER(3)                 #Fixed aperture magnitude vector                           [mag]\n",
    "MAGERR_APER(3)              #Fixed aperture magnitude vector                           [mag]\n",
    "MAG_APER(4)                 #Fixed aperture magnitude vector                           [mag]\n",
    "MAGERR_APER(4)              #Fixed aperture magnitude vector                           [mag]\n",
    "MAG_APER(5)                 #Fixed aperture magnitude vector                           [mag]\n",
    "MAGERR_APER(5)              #Fixed aperture magnitude vector                           [mag]\n",
    "MAG_APER(6)                 #Fixed aperture magnitude vector                           [mag]\n",
    "MAGERR_APER(6)              #Fixed aperture magnitude vector                           [mag]\n",
    "MAG_APER(7)                 #Fixed aperture magnitude vector                           [mag]\n",
    "MAGERR_APER(7)              #Fixed aperture magnitude vector                           [mag]\n",
    "MAG_APER(8)                 #Fixed aperture magnitude vector                           [mag]\n",
    "MAGERR_APER(8)              #Fixed aperture magnitude vector                           [mag]\n",
    "MAG_APER(9)                 #Fixed aperture magnitude vector                           [mag]\n",
    "MAGERR_APER(9)              #Fixed aperture magnitude vector                           [mag]\n",
    "MAG_APER(10)                #Fixed aperture magnitude vector                           [mag]\n",
    "MAGERR_APER(10)             #Fixed aperture magnitude vector                           [mag]\n",
    "MAG_APER(11)                #Fixed aperture magnitude vector                           [mag]\n",
    "MAGERR_APER(11)             #Fixed aperture magnitude vector                           [mag]\n",
    "MAG_APER(12)                #Fixed aperture magnitude vector                           [mag]\n",
    "MAGERR_APER(12)             #Fixed aperture magnitude vector                           [mag]\n",
    "MAG_APER(13)                #Fixed aperture magnitude vector                           [mag]\n",
    "MAGERR_APER(13)             #Fixed aperture magnitude vector                           [mag]\n",
    "MAG_APER(14)                #Fixed aperture magnitude vector                           [mag]\n",
    "MAGERR_APER(14)             #Fixed aperture magnitude vector                           [mag]\n",
    "FWHM_IMAGE               FWHM assuming a gaussian core                             [pixels]\n",
    "ELLIPTICITY              1 - B_IMAGE/A_IMAGE                                      \n",
    "FLAGS                    Extraction flags"
   ]
  },
  {
   "cell_type": "code",
   "execution_count": 6,
   "metadata": {
    "collapsed": true
   },
   "outputs": [],
   "source": [
    "#after everything specified and all config files are saved, can run sextractor using this command\n",
    "run = os.system(\"sex -c \"+ config_file + ' ' + file)"
   ]
  },
  {
   "cell_type": "code",
   "execution_count": 8,
   "metadata": {
    "collapsed": false
   },
   "outputs": [],
   "source": [
    "#read in the data. take this catalog name from what you specified for the above file.\n",
    "data = np.loadtxt('r_RUSNO_aper_cor.cat')"
   ]
  },
  {
   "cell_type": "markdown",
   "metadata": {},
   "source": [
    "### Make the merr plot to determine which aperture to use. Could do cuts here, but usually 2x FWHM is easy enough.\n",
    "Here 6 pix aperture is pretty clear, which corresponds to the 2nd aperture (index = 1).\n"
   ]
  },
  {
   "cell_type": "code",
   "execution_count": 9,
   "metadata": {
    "collapsed": false
   },
   "outputs": [
    {
     "name": "stderr",
     "output_type": "stream",
     "text": [
      "/Users/zjennings/astro/sluggs_phot_calibration/aperCor.py:32: VisibleDeprecationWarning: using a non-integer number instead of an integer will result in an error in the future\n",
      "  return data[:,n_apers+2:(2.*n_apers)+2]\n"
     ]
    },
    {
     "data": {
      "image/png": "[encoded data removed]",
      "text/plain": [
       "<matplotlib.figure.Figure at 0x10cbab9b0>"
      ]
     },
     "metadata": {},
     "output_type": "display_data"
    }
   ],
   "source": [
    "aperCor.make_merr_plot(data,apers)"
   ]
  },
  {
   "cell_type": "markdown",
   "metadata": {},
   "source": [
    "### Make the COG plot to determine which aperture to correct magnitudes to. \n",
    "Just pick the lowest value that the COG seems to flatten out at. Here 21 pix aperture seems pretty reasonable to me (which corresponds to  7th aperture, index=6)."
   ]
  },
  {
   "cell_type": "code",
   "execution_count": 10,
   "metadata": {
    "collapsed": false
   },
   "outputs": [
    {
     "data": {
      "image/png": "[encoded data removed]",
      "text/plain": [
       "<matplotlib.figure.Figure at 0x10cc8d358>"
      ]
     },
     "metadata": {},
     "output_type": "display_data"
    }
   ],
   "source": [
    "aperCor.make_cog_plot(data,apers,ylim=(-0.6,0.2),cor_aper=7)"
   ]
  },
  {
   "cell_type": "markdown",
   "metadata": {},
   "source": [
    "### Make the magnitude vs. aperture difference plot to select reasonable locus of stars to choose from.\n",
    "Iterate on fwhm_max, fwhm_min, saturation and faint cuts to select reasonable sample. "
   ]
  },
  {
   "cell_type": "code",
   "execution_count": 20,
   "metadata": {
    "collapsed": false
   },
   "outputs": [
    {
     "name": "stderr",
     "output_type": "stream",
     "text": [
      "/Users/zjennings/astro/sluggs_phot_calibration/aperCor.py:49: VisibleDeprecationWarning: using a non-integer number instead of an integer will result in an error in the future\n",
      "  merrs = data[:,n_apers+2:(2.*n_apers)+2]\n"
     ]
    }
   ],
   "source": [
    "aper_cor,good = aperCor.calc_aper_cor(data,meas_aper=1,cor_aper=6,fwhm_max=3.8,fwhm_min=3.2,sat_cut=14,faint_cut=16)"
   ]
  },
  {
   "cell_type": "code",
   "execution_count": 21,
   "metadata": {
    "collapsed": false
   },
   "outputs": [
    {
     "data": {
      "image/png": "[encoded data removed]",
      "text/plain": [
       "<matplotlib.figure.Figure at 0x1123287b8>"
      ]
     },
     "metadata": {},
     "output_type": "display_data"
    }
   ],
   "source": [
    "aperCor.make_diff_plot(data,good,meas_aper=1,cor_aper=6,xlim=(12,20))"
   ]
  },
  {
   "cell_type": "code",
   "execution_count": 22,
   "metadata": {
    "collapsed": false
   },
   "outputs": [
    {
     "name": "stdout",
     "output_type": "stream",
     "text": [
      "0.26635\n"
     ]
    }
   ],
   "source": [
    "print(aper_cor)"
   ]
  },
  {
   "cell_type": "code",
   "execution_count": 23,
   "metadata": {
    "collapsed": false
   },
   "outputs": [],
   "source": [
    "uncorrected_data = np.array([data[:,0],data[:,1],data[:,5],data[:,5+14],data[:,-3],data[:,-2],data[:,-1]]).T\n",
    "np.savetxt('RUSNO_uncorrected.csv',uncorrected_data,delimiter=',',fmt='%10.10f')"
   ]
  },
  {
   "cell_type": "code",
   "execution_count": null,
   "metadata": {
    "collapsed": true
   },
   "outputs": [],
   "source": []
  },
  {
   "cell_type": "code",
   "execution_count": null,
   "metadata": {
    "collapsed": true
   },
   "outputs": [],
   "source": []
  }
 ],
 "metadata": {
  "anaconda-cloud": {},
  "kernelspec": {
   "display_name": "Python [astro]",
   "language": "python",
   "name": "Python [astro]"
  },
  "language_info": {
   "codemirror_mode": {
    "name": "ipython",
    "version": 3
   },
   "file_extension": ".py",
   "mimetype": "text/x-python",
   "name": "python",
   "nbconvert_exporter": "python",
   "pygments_lexer": "ipython3",
   "version": "3.5.2"
  }
 },
 "nbformat": 4,
 "nbformat_minor": 0
}
