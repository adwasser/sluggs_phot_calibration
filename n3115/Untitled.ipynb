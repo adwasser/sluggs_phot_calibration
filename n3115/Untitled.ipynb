{
 "cells": [
  {
   "cell_type": "code",
   "execution_count": 2,
   "metadata": {
    "collapsed": true
   },
   "outputs": [],
   "source": [
    "from astropy.io import fits"
   ]
  },
  {
   "cell_type": "code",
   "execution_count": 3,
   "metadata": {
    "collapsed": false
   },
   "outputs": [],
   "source": [
    "data = fits.open('N3115_phot_colorcorr_extcorr_CaT.fits')"
   ]
  },
  {
   "cell_type": "code",
   "execution_count": 4,
   "metadata": {
    "collapsed": false
   },
   "outputs": [
    {
     "data": {
      "text/plain": [
       "array([ 27.70999908,  27.70999908,  27.70999908, ...,  27.70999908,\n",
       "        27.70999908,  27.70999908])"
      ]
     },
     "execution_count": 4,
     "metadata": {},
     "output_type": "execute_result"
    }
   ],
   "source": [
    "data[1].data['ZP_I']"
   ]
  },
  {
   "cell_type": "code",
   "execution_count": 8,
   "metadata": {
    "collapsed": false
   },
   "outputs": [
    {
     "data": {
      "text/plain": [
       "XTENSION= 'BINTABLE'           /Binary table written by MWRFITS v1.6a           \n",
       "BITPIX  =                    8 /Required value                                  \n",
       "NAXIS   =                    2 /Required value                                  \n",
       "NAXIS1  =                  293 /Number of bytes per row                         \n",
       "NAXIS2  =                21293 /Number of rows                                  \n",
       "PCOUNT  =                    0 /Normally 0 (no varying arrays)                  \n",
       "GCOUNT  =                    1 /Required value                                  \n",
       "TFIELDS =                   42 /Number of columns in table                      \n",
       "COMMENT                                                                         \n",
       "COMMENT  *** End of mandatory fields ***                                        \n",
       "COMMENT                                                                         \n",
       "COMMENT                                                                         \n",
       "COMMENT  *** Column names ***                                                   \n",
       "COMMENT                                                                         \n",
       "TTYPE1  = 'RA      '           /                                                \n",
       "TTYPE2  = 'DEC     '           /                                                \n",
       "TTYPE3  = 'GMAG    '           /                                                \n",
       "TTYPE4  = 'ERRGMAG '           /                                                \n",
       "TTYPE5  = 'RMAG    '           /                                                \n",
       "TTYPE6  = 'ERRRMAG '           /                                                \n",
       "TTYPE7  = 'IMAG    '           /                                                \n",
       "TTYPE8  = 'ERRIMAG '           /                                                \n",
       "TTYPE9  = 'FWHM_WORLD '        /                                                \n",
       "TTYPE10 = 'PHOTGC  '           /                                                \n",
       "TTYPE11 = 'SPECGC  '           /                                                \n",
       "TTYPE12 = 'CATGC   '           /                                                \n",
       "TTYPE13 = 'EBV     '           /                                                \n",
       "TTYPE14 = 'GEXT    '           /                                                \n",
       "TTYPE15 = 'REXT    '           /                                                \n",
       "TTYPE16 = 'IEXT    '           /                                                \n",
       "TTYPE17 = 'ZP_G    '           /                                                \n",
       "TTYPE18 = 'ZP_R    '           /                                                \n",
       "TTYPE19 = 'ZP_I    '           /                                                \n",
       "TTYPE20 = 'VEL     '           /                                                \n",
       "TTYPE21 = 'ERRVEL  '           /                                                \n",
       "TTYPE22 = 'DVEL    '           /                                                \n",
       "TTYPE23 = 'LVEL    '           /                                                \n",
       "TTYPE24 = 'PVEL    '           /                                                \n",
       "TTYPE25 = 'KVEL    '           /                                                \n",
       "TTYPE26 = 'DWVEL   '           /                                                \n",
       "TTYPE27 = 'IVEL    '           /                                                \n",
       "TTYPE28 = 'IDN     '           /                                                \n",
       "TTYPE29 = 'SN      '           /                                                \n",
       "TTYPE30 = 'CAT     '           /                                                \n",
       "TTYPE31 = 'ECAT    '           /                                                \n",
       "TTYPE32 = 'Z       '           /                                                \n",
       "TTYPE33 = 'EZ      '           /                                                \n",
       "TTYPE34 = 'IDN_1   '           /                                                \n",
       "TTYPE35 = 'SN_1    '           /                                                \n",
       "TTYPE36 = 'CAT_1   '           /                                                \n",
       "TTYPE37 = 'ECAT_1  '           /                                                \n",
       "TTYPE38 = 'Z_1     '           /                                                \n",
       "TTYPE39 = 'EZ_1    '           /                                                \n",
       "TTYPE40 = 'DELTAZ  '           /                                                \n",
       "TTYPE41 = 'DELTACAT '          /                                                \n",
       "TTYPE42 = 'REDUNDANT '         /                                                \n",
       "COMMENT                                                                         \n",
       "COMMENT  *** Column formats ***                                                 \n",
       "COMMENT                                                                         \n",
       "TFORM1  = 'D       '           /                                                \n",
       "TFORM2  = 'D       '           /                                                \n",
       "TFORM3  = 'D       '           /                                                \n",
       "TFORM4  = 'D       '           /                                                \n",
       "TFORM5  = 'D       '           /                                                \n",
       "TFORM6  = 'D       '           /                                                \n",
       "TFORM7  = 'D       '           /                                                \n",
       "TFORM8  = 'D       '           /                                                \n",
       "TFORM9  = 'D       '           /                                                \n",
       "TFORM10 = 'D       '           /                                                \n",
       "TFORM11 = 'D       '           /                                                \n",
       "TFORM12 = 'D       '           /                                                \n",
       "TFORM13 = 'E       '           /                                                \n",
       "TFORM14 = 'E       '           /                                                \n",
       "TFORM15 = 'E       '           /                                                \n",
       "TFORM16 = 'E       '           /                                                \n",
       "TFORM17 = 'D       '           /                                                \n",
       "TFORM18 = 'D       '           /                                                \n",
       "TFORM19 = 'D       '           /                                                \n",
       "TFORM20 = 'D       '           /                                                \n",
       "TFORM21 = 'D       '           /                                                \n",
       "TFORM22 = 'D       '           /                                                \n",
       "TFORM23 = 'D       '           /                                                \n",
       "TFORM24 = 'D       '           /                                                \n",
       "TFORM25 = 'D       '           /                                                \n",
       "TFORM26 = 'D       '           /                                                \n",
       "TFORM27 = 'D       '           /                                                \n",
       "TFORM28 = '23A     '           /                                                \n",
       "TFORM29 = 'E       '           /                                                \n",
       "TFORM30 = 'E       '           /                                                \n",
       "TFORM31 = 'E       '           /                                                \n",
       "TFORM32 = 'E       '           /                                                \n",
       "TFORM33 = 'E       '           /                                                \n",
       "TFORM34 = '20A     '           /                                                \n",
       "TFORM35 = 'E       '           /                                                \n",
       "TFORM36 = 'E       '           /                                                \n",
       "TFORM37 = 'E       '           /                                                \n",
       "TFORM38 = 'E       '           /                                                \n",
       "TFORM39 = 'E       '           /                                                \n",
       "TFORM40 = 'E       '           /                                                \n",
       "TFORM41 = 'E       '           /                                                \n",
       "TFORM42 = 'I       '           /                                                "
      ]
     },
     "execution_count": 8,
     "metadata": {},
     "output_type": "execute_result"
    }
   ],
   "source": [
    "data[1].header"
   ]
  },
  {
   "cell_type": "code",
   "execution_count": null,
   "metadata": {
    "collapsed": true
   },
   "outputs": [],
   "source": []
  }
 ],
 "metadata": {
  "kernelspec": {
   "display_name": "Python [astro]",
   "language": "python",
   "name": "Python [astro]"
  },
  "language_info": {
   "codemirror_mode": {
    "name": "ipython",
    "version": 3
   },
   "file_extension": ".py",
   "mimetype": "text/x-python",
   "name": "python",
   "nbconvert_exporter": "python",
   "pygments_lexer": "ipython3",
   "version": "3.5.2"
  }
 },
 "nbformat": 4,
 "nbformat_minor": 0
}
