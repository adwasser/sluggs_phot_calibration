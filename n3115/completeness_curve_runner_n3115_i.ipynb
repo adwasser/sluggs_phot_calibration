{
 "cells": [
  {
   "cell_type": "code",
   "execution_count": 156,
   "metadata": {
    "collapsed": false
   },
   "outputs": [],
   "source": [
    "#%matplotlib inline\n",
    "import seWrapper as se\n",
    "#import matplotlib.pyplot as plt\n",
    "import numpy as np\n",
    "import fakeStars\n",
    "reload(se)\n",
    "reload(fakeStars)\n",
    "import astropy.units as u"
   ]
  },
  {
   "cell_type": "code",
   "execution_count": 157,
   "metadata": {
    "collapsed": false
   },
   "outputs": [],
   "source": [
    "data = np.loadtxt('IUSNO_uncorrected.csv',delimiter=' ')"
   ]
  },
  {
   "cell_type": "code",
   "execution_count": 158,
   "metadata": {
    "collapsed": false
   },
   "outputs": [
    {
     "data": {
      "text/plain": [
       "array([ 151.289584 ,   -7.9652672,   99.       ,   99.       ,\n",
       "          3.58     ,    0.774    ,   16.       ])"
      ]
     },
     "execution_count": 158,
     "metadata": {},
     "output_type": "execute_result"
    }
   ],
   "source": [
    "data[0,:]"
   ]
  },
  {
   "cell_type": "code",
   "execution_count": 159,
   "metadata": {
    "collapsed": false
   },
   "outputs": [],
   "source": [
    "catalog = se.seCatalog()"
   ]
  },
  {
   "cell_type": "code",
   "execution_count": 160,
   "metadata": {
    "collapsed": false
   },
   "outputs": [],
   "source": [
    "catalog.create_new_catalog_arrs(ra=data[:,0],dec=data[:,1],fil='i',mags=data[:,2],\\\n",
    "                                    merr=data[:,3],fwhm=data[:,4],ellipticity=data[:,5],flags=data[:,6])"
   ]
  },
  {
   "cell_type": "code",
   "execution_count": 161,
   "metadata": {
    "collapsed": false
   },
   "outputs": [],
   "source": [
    "fake_stars = fakeStars.fakeStarTests('IUSNO.fits',\\\n",
    "                                catalog,config_file='IUSNO_completeness.seconfig',seeing=3.,zpt=27.70999908 ,\\\n",
    "                              pix_scale=0.2,write_true_phot=False,gain=1.,exptime=75.)"
   ]
  },
  {
   "cell_type": "code",
   "execution_count": 162,
   "metadata": {
    "collapsed": false
   },
   "outputs": [],
   "source": [
    "#starlist_x,starlist_y,starlist_mags = fake_stars.makeStarList('foo',min_mag=18,max_mag=20,n_stars=1000)"
   ]
  },
  {
   "cell_type": "code",
   "execution_count": 181,
   "metadata": {
    "collapsed": false
   },
   "outputs": [],
   "source": [
    "fake_stars.genFakeCatalogs(n_stars=5000,min_mag=13,max_mag=30,n_iter=1,overwrite=True,\\\n",
    "                           ymax=8000,ymin=500,xmax=10000,xmin=500,match_rad=2.*u.arcsec)"
   ]
  },
  {
   "cell_type": "code",
   "execution_count": 182,
   "metadata": {
    "collapsed": false
   },
   "outputs": [
    {
     "data": {
      "text/plain": [
       "array([  3.50801967,   3.74296414,   3.5016582 , ..., -72.6779165 ,\n",
       "       -71.03583482, -72.88477072])"
      ]
     },
     "execution_count": 182,
     "metadata": {},
     "output_type": "execute_result"
    }
   ],
   "source": [
    "fake_stars.fake_cats['0'][0,:] - fake_stars.fake_cats['0'][1,:]"
   ]
  },
  {
   "cell_type": "code",
   "execution_count": 196,
   "metadata": {
    "collapsed": false
   },
   "outputs": [],
   "source": [
    "np.savetxt('n3115_fake_stars_i.csv',fake_stars.fake_cats['0'],delimiter=',',fmt='%10.10f')"
   ]
  },
  {
   "cell_type": "code",
   "execution_count": 199,
   "metadata": {
    "collapsed": false
   },
   "outputs": [
    {
     "data": {
      "text/plain": [
       "array([ 15.4912,  16.1131,  10.771 ,  99.999 ,  15.8844,  99.999 ,\n",
       "        21.4364,  18.3851,  20.8299,   9.829 ,  13.6124,  19.0732,\n",
       "        16.6994,  11.7244,  21.8499,  10.8981,   9.7328,  20.5693,\n",
       "        15.3724,  14.1839,  21.4192,  11.2255,  17.8703,  11.4969,\n",
       "        14.0641,  12.949 ,  99.999 ,  21.8756,  12.2075,   9.7325,\n",
       "        20.0377,  99.999 ,  99.999 ,  22.094 ,  22.1567,  99.999 ,\n",
       "        99.999 ,  20.7394,  15.3562,  18.9932,  22.0819,  21.2556,\n",
       "        19.2043,  14.2248,  12.5152,  99.999 ,  20.4098,  19.7099,\n",
       "         9.7082,  19.0185,  17.0583,  18.5473,  13.0228,  15.3263,\n",
       "        20.2128,  17.5574,  20.3325,  10.7258,  21.9299,  21.9859,\n",
       "        19.7067,  18.4857,  16.7024,  17.2022,  20.0299,  14.7139,\n",
       "        17.5103,  16.8563,  11.7703,  20.0037,  21.1582,  99.999 ,\n",
       "        22.1742,  99.999 ,  99.999 ,  11.5137,  15.3243,  12.7118,\n",
       "        19.6734,  13.8581,  15.4217,  12.7196,  21.85  ,  17.6049,\n",
       "        22.1577,  11.8765,  12.1051,  10.4876,  12.9409,  99.999 ,\n",
       "        21.3845,  99.999 ,  12.4349,  21.7882,   9.7829,  19.5425,\n",
       "        19.1637,  12.9177,  11.5862,  11.2498])"
      ]
     },
     "execution_count": 199,
     "metadata": {},
     "output_type": "execute_result"
    }
   ],
   "source": [
    "fake_stars.fake_cats['0'][1,:][500:600]"
   ]
  },
  {
   "cell_type": "code",
   "execution_count": 185,
   "metadata": {
    "collapsed": false
   },
   "outputs": [
    {
     "ename": "IOError",
     "evalue": "[Errno 2] No such file or directory: 'bg1_i_fake_stars.csv'",
     "output_type": "error",
     "traceback": [
      "\u001b[0;31m---------------------------------------------------------------------------\u001b[0m",
      "\u001b[0;31mIOError\u001b[0m                                   Traceback (most recent call last)",
      "\u001b[0;32m<ipython-input-185-3b73e5784f72>\u001b[0m in \u001b[0;36m<module>\u001b[0;34m()\u001b[0m\n\u001b[0;32m----> 1\u001b[0;31m \u001b[0mdata\u001b[0m \u001b[0;34m=\u001b[0m \u001b[0mnp\u001b[0m\u001b[0;34m.\u001b[0m\u001b[0mloadtxt\u001b[0m\u001b[0;34m(\u001b[0m\u001b[0;34m'bg1_i_fake_stars.csv'\u001b[0m\u001b[0;34m,\u001b[0m\u001b[0mdelimiter\u001b[0m\u001b[0;34m=\u001b[0m\u001b[0;34m','\u001b[0m\u001b[0;34m)\u001b[0m\u001b[0;34m\u001b[0m\u001b[0m\n\u001b[0m",
      "\u001b[0;32m/Users/zjennings/anaconda/envs/iraf27/lib/python2.7/site-packages/numpy/lib/npyio.pyc\u001b[0m in \u001b[0;36mloadtxt\u001b[0;34m(fname, dtype, comments, delimiter, converters, skiprows, usecols, unpack, ndmin)\u001b[0m\n\u001b[1;32m    801\u001b[0m                 \u001b[0mfh\u001b[0m \u001b[0;34m=\u001b[0m \u001b[0miter\u001b[0m\u001b[0;34m(\u001b[0m\u001b[0mbz2\u001b[0m\u001b[0;34m.\u001b[0m\u001b[0mBZ2File\u001b[0m\u001b[0;34m(\u001b[0m\u001b[0mfname\u001b[0m\u001b[0;34m)\u001b[0m\u001b[0;34m)\u001b[0m\u001b[0;34m\u001b[0m\u001b[0m\n\u001b[1;32m    802\u001b[0m             \u001b[0;32melif\u001b[0m \u001b[0msys\u001b[0m\u001b[0;34m.\u001b[0m\u001b[0mversion_info\u001b[0m\u001b[0;34m[\u001b[0m\u001b[0;36m0\u001b[0m\u001b[0;34m]\u001b[0m \u001b[0;34m==\u001b[0m \u001b[0;36m2\u001b[0m\u001b[0;34m:\u001b[0m\u001b[0;34m\u001b[0m\u001b[0m\n\u001b[0;32m--> 803\u001b[0;31m                 \u001b[0mfh\u001b[0m \u001b[0;34m=\u001b[0m \u001b[0miter\u001b[0m\u001b[0;34m(\u001b[0m\u001b[0mopen\u001b[0m\u001b[0;34m(\u001b[0m\u001b[0mfname\u001b[0m\u001b[0;34m,\u001b[0m \u001b[0;34m'U'\u001b[0m\u001b[0;34m)\u001b[0m\u001b[0;34m)\u001b[0m\u001b[0;34m\u001b[0m\u001b[0m\n\u001b[0m\u001b[1;32m    804\u001b[0m             \u001b[0;32melse\u001b[0m\u001b[0;34m:\u001b[0m\u001b[0;34m\u001b[0m\u001b[0m\n\u001b[1;32m    805\u001b[0m                 \u001b[0mfh\u001b[0m \u001b[0;34m=\u001b[0m \u001b[0miter\u001b[0m\u001b[0;34m(\u001b[0m\u001b[0mopen\u001b[0m\u001b[0;34m(\u001b[0m\u001b[0mfname\u001b[0m\u001b[0;34m)\u001b[0m\u001b[0;34m)\u001b[0m\u001b[0;34m\u001b[0m\u001b[0m\n",
      "\u001b[0;31mIOError\u001b[0m: [Errno 2] No such file or directory: 'bg1_i_fake_stars.csv'"
     ]
    }
   ],
   "source": [
    "data = np.loadtxt('bg1_i_fake_stars.csv',delimiter=',')"
   ]
  },
  {
   "cell_type": "code",
   "execution_count": 186,
   "metadata": {
    "collapsed": false
   },
   "outputs": [
    {
     "data": {
      "text/plain": [
       "(85615, 7)"
      ]
     },
     "execution_count": 186,
     "metadata": {},
     "output_type": "execute_result"
    }
   ],
   "source": [
    "data.shape"
   ]
  },
  {
   "cell_type": "code",
   "execution_count": 187,
   "metadata": {
    "collapsed": false
   },
   "outputs": [],
   "source": [
    "phot_cat = fake_stars.phot\n",
    "starlist_cat = fake_stars.starlist_cat\n",
    "recovered_cat = fake_stars.recovered_cat\n",
    "unrec_cat = fake_stars.unrec_cat"
   ]
  },
  {
   "cell_type": "code",
   "execution_count": 188,
   "metadata": {
    "collapsed": false
   },
   "outputs": [
    {
     "data": {
      "text/plain": [
       "(114024,)"
      ]
     },
     "execution_count": 188,
     "metadata": {},
     "output_type": "execute_result"
    }
   ],
   "source": [
    "starlist_cat.mags['recovered'].shape"
   ]
  },
  {
   "cell_type": "code",
   "execution_count": 189,
   "metadata": {
    "collapsed": false
   },
   "outputs": [],
   "source": [
    "bright_rec = ((starlist_cat.mags['input'] < 24) & (starlist_cat.mags['recovered'] > 80))"
   ]
  },
  {
   "cell_type": "code",
   "execution_count": 190,
   "metadata": {
    "collapsed": false
   },
   "outputs": [
    {
     "data": {
      "text/plain": [
       "258"
      ]
     },
     "execution_count": 190,
     "metadata": {},
     "output_type": "execute_result"
    }
   ],
   "source": [
    "np.sum(bright_rec)"
   ]
  },
  {
   "cell_type": "code",
   "execution_count": 191,
   "metadata": {
    "collapsed": false
   },
   "outputs": [],
   "source": [
    "mags= np.random.uniform(low=18,high=22,size=1000)"
   ]
  },
  {
   "cell_type": "code",
   "execution_count": 192,
   "metadata": {
    "collapsed": true
   },
   "outputs": [],
   "source": [
    "mags = np.random.uniform(low=22,high=26,size=1000)\n",
    "x = np.random.uniform(high=fake_stars.header['naxis1'],size=1000)\n",
    "y = np.random.uniform(high=fake_stars.header['naxis2'],size=1000)"
   ]
  },
  {
   "cell_type": "code",
   "execution_count": 193,
   "metadata": {
    "collapsed": false
   },
   "outputs": [],
   "source": [
    "def write_reg(ra,dec,size='2\"',color='green',shape='circle',filename='regions.reg'):\n",
    "    f = open(filename,'w')\n",
    "    f.write('fk5\\n')\n",
    "    for i,j in zip(ra,dec):\n",
    "        f.write(shape+' '+str(i)+' '+str(j)+' '+size+' # color='+color+'\\n')\n",
    "    f.close()     "
   ]
  },
  {
   "cell_type": "code",
   "execution_count": 194,
   "metadata": {
    "collapsed": false
   },
   "outputs": [],
   "source": [
    "ra = starlist_cat.coords[bright_rec].ra.degree\n",
    "dec = starlist_cat.coords[bright_rec].dec.degree"
   ]
  },
  {
   "cell_type": "code",
   "execution_count": 195,
   "metadata": {
    "collapsed": false
   },
   "outputs": [],
   "source": [
    "write_reg(ra,dec,filename='unrec_bright.reg')"
   ]
  },
  {
   "cell_type": "code",
   "execution_count": 341,
   "metadata": {
    "collapsed": false
   },
   "outputs": [
    {
     "data": {
      "text/plain": [
       "array([ 99.999,  99.999,  99.999, ...,  99.999,  99.999,  99.999])"
      ]
     },
     "execution_count": 341,
     "metadata": {},
     "output_type": "execute_result"
    }
   ],
   "source": [
    "starlist_cat.mags['input']"
   ]
  },
  {
   "cell_type": "code",
   "execution_count": null,
   "metadata": {
    "collapsed": true
   },
   "outputs": [],
   "source": []
  }
 ],
 "metadata": {
  "anaconda-cloud": {},
  "kernelspec": {
   "display_name": "Python [conda env:iraf27]",
   "language": "python",
   "name": "conda-env-iraf27-py"
  },
  "language_info": {
   "codemirror_mode": {
    "name": "ipython",
    "version": 2
   },
   "file_extension": ".py",
   "mimetype": "text/x-python",
   "name": "python",
   "nbconvert_exporter": "python",
   "pygments_lexer": "ipython2",
   "version": "2.7.12"
  }
 },
 "nbformat": 4,
 "nbformat_minor": 0
}
