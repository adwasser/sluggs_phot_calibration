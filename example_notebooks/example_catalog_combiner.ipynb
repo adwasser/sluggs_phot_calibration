{
 "cells": [
  {
   "cell_type": "markdown",
   "metadata": {},
   "source": [
    "## Catalog Combiner\n",
    "This notebook will combine three seperate filter catalogs into a single final catalog"
   ]
  },
  {
   "cell_type": "code",
   "execution_count": 1,
   "metadata": {
    "collapsed": false
   },
   "outputs": [],
   "source": [
    "#standard imports\n",
    "%matplotlib inline\n",
    "import seWrapper\n",
    "from imp import reload\n",
    "import os\n",
    "import matplotlib.pyplot as plt\n",
    "import numpy as np\n",
    "reload(seWrapper)\n",
    "\n",
    "import pandas as pd"
   ]
  },
  {
   "cell_type": "markdown",
   "metadata": {},
   "source": [
    "#### Replace the names of the files below with the final catalogs produced by the zero point step. "
   ]
  },
  {
   "cell_type": "code",
   "execution_count": 7,
   "metadata": {
    "collapsed": false
   },
   "outputs": [],
   "source": [
    "g_band_data = pd.read_csv('n4486_g_final.csv')\n",
    "r_band_data = pd.read_csv('n4486_r_final.csv')\n",
    "i_band_data = pd.read_csv('n4486_i_final.csv')"
   ]
  },
  {
   "cell_type": "markdown",
   "metadata": {},
   "source": [
    "#### Create catalog objects to store the photometry.\n",
    "These are custom objects that can handle detection/non-detection conflicts across filters. We need to create one for each filter. The cells below should do this correctly."
   ]
  },
  {
   "cell_type": "code",
   "execution_count": null,
   "metadata": {
    "collapsed": true
   },
   "outputs": [],
   "source": [
    "se_g = seWrapper.seCatalog()\n",
    "se_g.create_new_catalog_arrs(g_band_data['ra'],\\\n",
    "                        g_band_data['dec'],\\\n",
    "                           fil='g',\\\n",
    "                        mags = g_band_data['mag'],\n",
    "                        fwhm = g_band_data['fwhm'],\n",
    "                       flags = g_band_data['flag'],\n",
    "                       ellipticity = g_band_data['ellip'],\n",
    "                        merr = g_band_data['merr'])"
   ]
  },
  {
   "cell_type": "code",
   "execution_count": 9,
   "metadata": {
    "collapsed": true
   },
   "outputs": [],
   "source": [
    "se_r = seWrapper.seCatalog()\n",
    "se_r.create_new_catalog_arrs(r_band_data['ra'],\\\n",
    "                        r_band_data['dec'],\\\n",
    "                           fil='r',\\\n",
    "                        mags = r_band_data['mag'],\n",
    "                        fwhm = r_band_data['fwhm'],\n",
    "                       flags = r_band_data['flag'],\n",
    "                       ellipticity = r_band_data['ellip'],\n",
    "                            merr = r_band_data['merr'])"
   ]
  },
  {
   "cell_type": "code",
   "execution_count": 10,
   "metadata": {
    "collapsed": true
   },
   "outputs": [],
   "source": [
    "se_i = seWrapper.seCatalog()\n",
    "se_i.create_new_catalog_arrs(i_band_data['ra'],\\\n",
    "                        i_band_data['dec'],\\\n",
    "                           fil='i',\\\n",
    "                        mags = i_band_data['mag'],\n",
    "                        fwhm = i_band_data['fwhm'],\n",
    "                       flags = i_band_data['flag'],\n",
    "                       ellipticity = i_band_data['ellip'],\n",
    "                            merr = i_band_data['merr'])"
   ]
  },
  {
   "cell_type": "markdown",
   "metadata": {},
   "source": [
    "#### Next merge the catalogs together into one master catalog containg all three filters.\n",
    "Run the two steps below to merge the se_r and se_i catalogs into the se_g catalog. Note that the steps below can take a while to run."
   ]
  },
  {
   "cell_type": "code",
   "execution_count": 11,
   "metadata": {
    "collapsed": false
   },
   "outputs": [],
   "source": [
    "se_g.mergeCatalog(se_r)\n"
   ]
  },
  {
   "cell_type": "code",
   "execution_count": 12,
   "metadata": {
    "collapsed": false
   },
   "outputs": [],
   "source": [
    "se_g.mergeCatalog(se_i)"
   ]
  },
  {
   "cell_type": "markdown",
   "metadata": {},
   "source": [
    "#### Only select objects detected in all filters.\n",
    "For purposes of creating the master photometric catalog, we are only interested in objects that are detected in all three filters. Non-detections in any filter are stored as 99.9999 magnitude, so the line below will only select objects with photometry in all three filters."
   ]
  },
  {
   "cell_type": "code",
   "execution_count": 13,
   "metadata": {
    "collapsed": false
   },
   "outputs": [],
   "source": [
    "all_detections = (se_g.mags['g'] < 90) & (se_g.mags['r'] < 90) & (se_g.mags['i'] < 90) "
   ]
  },
  {
   "cell_type": "markdown",
   "metadata": {},
   "source": [
    "#### Place all catalogs into a pandas dataframe for easy writing and manipulation.\n",
    "Run the two cells below to store the final catalog in an easy to work with format."
   ]
  },
  {
   "cell_type": "code",
   "execution_count": 16,
   "metadata": {
    "collapsed": false
   },
   "outputs": [],
   "source": [
    "#Now that catalogs are joined, put everything in a pandas data frame. Note that if I had written\n",
    "#my catalog code a year later, it would be written with the intention of doing this from the beginning...\n",
    "catalog_dict = {}\n",
    "\n",
    "#get the ra and dec from the coordinate object and place them in a pandas series\n",
    "catalog_dict['ra'] = pd.Series(se_g.coords.ra.degree)\n",
    "catalog_dict['dec'] = pd.Series(se_g.coords.dec.degree)\n",
    "\n",
    "#put the mags in pandas series:\n",
    "catalog_dict['g_mag'] = pd.Series(se_g.mags['g'])\n",
    "catalog_dict['r_mag'] = pd.Series(se_g.mags['r'])\n",
    "catalog_dict['i_mag'] = pd.Series(se_g.mags['i'])\n",
    "\n",
    "#same for the merrs:\n",
    "catalog_dict['g_merr'] = pd.Series(se_g.merr['g'])\n",
    "catalog_dict['r_merr'] = pd.Series(se_g.merr['r'])\n",
    "catalog_dict['i_merr'] = pd.Series(se_g.merr['i'])\n",
    "\n",
    "#same for the fwhm:\n",
    "catalog_dict['g_fwhm'] = pd.Series(se_g.fwhm['g'])\n",
    "catalog_dict['r_fwhm'] = pd.Series(se_g.fwhm['r'])\n",
    "catalog_dict['i_fwhm'] = pd.Series(se_g.fwhm['i'])\n",
    "\n",
    "#same for the ellipticity:\n",
    "catalog_dict['g_ellip'] = pd.Series(se_g.ellipticity['g'])\n",
    "catalog_dict['r_ellip'] = pd.Series(se_g.ellipticity['r'])\n",
    "catalog_dict['i_ellip'] = pd.Series(se_g.ellipticity['i'])\n",
    "\n",
    "#same for the flags:\n",
    "catalog_dict['g_flags'] = pd.Series(se_g.flags['g'])\n",
    "catalog_dict['r_flags'] = pd.Series(se_g.flags['r'])\n",
    "catalog_dict['i_flags'] = pd.Series(se_g.flags['i'])"
   ]
  },
  {
   "cell_type": "code",
   "execution_count": 17,
   "metadata": {
    "collapsed": false
   },
   "outputs": [],
   "source": [
    "catalog = pd.DataFrame(catalog_dict)\n",
    "#only keep objects detected in all filters.\n",
    "catalog = catalog.ix[all_detections,:]"
   ]
  },
  {
   "cell_type": "markdown",
   "metadata": {},
   "source": [
    "#### Finally, write out the catalog.\n",
    "Write the pandas dataframe to a .csv format catalog. Be sure to re-name the catalog to an appropriate designation. After this, the catalog should be easy to read in using pandas and the columns should be straightforward to manipulate. "
   ]
  },
  {
   "cell_type": "code",
   "execution_count": 18,
   "metadata": {
    "collapsed": false
   },
   "outputs": [],
   "source": [
    "catalog.to_csv('n4486_phot_combined.csv')"
   ]
  }
 ],
 "metadata": {
  "anaconda-cloud": {},
  "kernelspec": {
   "display_name": "Python 3",
   "language": "python",
   "name": "python3"
  },
  "language_info": {
   "codemirror_mode": {
    "name": "ipython",
    "version": 3
   },
   "file_extension": ".py",
   "mimetype": "text/x-python",
   "name": "python",
   "nbconvert_exporter": "python",
   "pygments_lexer": "ipython3",
   "version": "3.5.1"
  }
 },
 "nbformat": 4,
 "nbformat_minor": 0
}
