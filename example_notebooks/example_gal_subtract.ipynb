{
 "cells": [
  {
   "cell_type": "markdown",
   "metadata": {},
   "source": [
    "### Imports for Galaxy Subtraction"
   ]
  },
  {
   "cell_type": "code",
   "execution_count": 13,
   "metadata": {
    "collapsed": false
   },
   "outputs": [],
   "source": [
    "from pyraf import iraf\n",
    "import os\n",
    "\n",
    "#start up iraf to use tasks\n",
    "iraf.stsdas()\n",
    "iraf.analysis()\n",
    "iraf.isophote()\n",
    "\n",
    "#import fits to read in headers for conveinence\n",
    "import astropy.io.fits as fits"
   ]
  },
  {
   "cell_type": "code",
   "execution_count": 18,
   "metadata": {
    "collapsed": true
   },
   "outputs": [],
   "source": [
    "#specify the input image file\n",
    "image_file = 'NGC4111_g.fits'\n",
    "\n",
    "#read in image file's header and get out the x,y max values\n",
    "hdu = fits.open(image_file)\n",
    "header = hdu[0].header\n",
    "x_max = str(header['naxis1'])\n",
    "y_max = str(header['naxis2'])\n",
    "\n",
    "#files to save for output. Note that file space can fill up quick when making all these output files.\n",
    "output_file = 'n4111_g_galsub.fits'\n",
    "ellipse_table = 'n4111_g_ellipse.tab'\n",
    "model_file = 'n4111_g_ellipse_model.fits'\n",
    "\n",
    "\n",
    "#specify the name of the mask region file as well as the mask output file. The mask region file needs to be made\n",
    "#in ds9. Draw circular regions over all sources near the galaxy that you wish to mask out, then save this file\n",
    "#in image coordinates.\n",
    "region_file_name = 'n4111_mask_g.reg'\n",
    "mask_file_name = 'n4111_mask_g.pl'"
   ]
  },
  {
   "cell_type": "code",
   "execution_count": null,
   "metadata": {
    "collapsed": false
   },
   "outputs": [],
   "source": [
    "#make the mask for obvious point sources in the galaxy\n",
    "if os.path.exists(mask_file_name):\n",
    "    os.remove(mask_file_name)\n",
    "iraf.mskregions(region_file_name,mask_file_name,dims=x_max +','+y_max)"
   ]
  },
  {
   "cell_type": "code",
   "execution_count": null,
   "metadata": {
    "collapsed": true
   },
   "outputs": [],
   "source": [
    "#set galaxy parameters\n",
    "\n",
    "#x and y of galaxy center, measured by hand from image. Needs to be fairly precise, good strategy is to\n",
    "#centroid an elliptical region around the galaxy\n",
    "x_0 = 5529.1122\n",
    "y_0 = 4792.3844\n",
    "\n",
    "#initial guesses for PA and ellipticity, estimation from image is usually good enough.\n",
    "init_pa = -60.\n",
    "init_ellip = 0.8\n",
    "\n",
    "#initial semi-major axis in pixels, 100 is usually reasonable but might need iteration\n",
    "init_sma = 100.\n",
    "\n",
    "#max and min SMA values, max value will need to be played with\n",
    "max_sma = 900.\n",
    "min_sma = 20."
   ]
  },
  {
   "cell_type": "markdown",
   "metadata": {},
   "source": [
    "### After above values are specified, run next three cells.\n",
    "Compare galaxy subtracted image with original to verify reasonable subtraction. Will require a lot of iteration, especially on first filter for the galaxy."
   ]
  },
  {
   "cell_type": "code",
   "execution_count": null,
   "metadata": {
    "collapsed": false
   },
   "outputs": [],
   "source": [
    "\n",
    "# Define parameters for the ellipse run\n",
    "# 1. Initial guess of the central X, Y (need to be as accurate as possible)\n",
    "iraf.ellipse.x0 = x_0\n",
    "iraf.ellipse.y0 = y_0\n",
    "\n",
    "iraf.ellipse.ellip0 = init_ellip\n",
    "iraf.ellipse.pa0 = init_pa\n",
    "# 3. Initial radius for ellipse fitting (The major axis length of the first\n",
    "#    elliptical isophote); Can not be too small, and can not be too large\n",
    "iraf.ellipse.sma0 = init_sma\n",
    "# 4. The minimum and maximum radius for the ellipse fitting\n",
    "iraf.ellipse.minsma = min_sma\n",
    "iraf.ellipse.maxsma = max_sma\n",
    "# 5. Parameters about the stepsize during the fitting.\n",
    "#    Unless you know what you what, normally should use log-stepsize instead of\n",
    "#    linear one; and step=0.05 will generate more isophotes than step=0.1, but\n",
    "#    may not help if you want a robust surface brightness profile.\n",
    "iraf.ellipse.linear = \"no\"\n",
    "iraf.ellipse.step = 0.05\n",
    "# 6. Do you want to allow the ellipse to decide the galaxy center during the\n",
    "#    fitting.  In general, it's a good idea to turn this on.  If the center you\n",
    "#    provide is accurate enough, ELlipse results will not deviate from it.\n",
    "iraf.ellipse.recenter = \"yes\"\n",
    "\n",
    "iraf.ellipse.hcenter = \"no\"\n",
    "iraf.ellipse.hellip = \"no\"\n",
    "iraf.ellipse.hpa = \"no\"\n",
    "\n",
    "iraf.ellipse.minit = 10\n",
    "iraf.ellipse.maxit = 300\n",
    "\n",
    "iraf.ellipse.olthresh = 1.0\n",
    "iraf.ellipse.dqf = mask_file_name\n",
    "\n",
    "# 10. Make sure the Interactive Mode is turned off\n",
    "#iraf.ellipse.controlpar.interactive = \"no\"\n"
   ]
  },
  {
   "cell_type": "code",
   "execution_count": null,
   "metadata": {
    "collapsed": false
   },
   "outputs": [],
   "source": [
    "iraf.ellipse(image_file,ellipse_table)"
   ]
  },
  {
   "cell_type": "code",
   "execution_count": null,
   "metadata": {
    "collapsed": false
   },
   "outputs": [],
   "source": [
    "#once ellipse fitting ran, write the model to its own fits file\n",
    "if os.path.exists(model_file):\n",
    "    os.remove(model_file)\n",
    "iraf.stsdas.analysis.isophote.bmodel(ellipse_table,model_file)"
   ]
  },
  {
   "cell_type": "code",
   "execution_count": null,
   "metadata": {
    "collapsed": false
   },
   "outputs": [],
   "source": [
    "#once model written, subtract off the model from the original image\n",
    "iraf.imarith.operand1 = image_file\n",
    "iraf.imarith.op = '-'\n",
    "iraf.imarith.operand2 = model_file\n",
    "iraf.imarith.result = output_file\n",
    "\n",
    "if os.path.exists(output_file):\n",
    "    os.remove(output_file)\n",
    "iraf.imarith()"
   ]
  },
  {
   "cell_type": "code",
   "execution_count": null,
   "metadata": {
    "collapsed": true
   },
   "outputs": [],
   "source": []
  }
 ],
 "metadata": {
  "anaconda-cloud": {},
  "kernelspec": {
   "display_name": "Python [default]",
   "language": "python",
   "name": "python2"
  },
  "language_info": {
   "codemirror_mode": {
    "name": "ipython",
    "version": 2
   },
   "file_extension": ".py",
   "mimetype": "text/x-python",
   "name": "python",
   "nbconvert_exporter": "python",
   "pygments_lexer": "ipython2",
   "version": "2.7.12"
  }
 },
 "nbformat": 4,
 "nbformat_minor": 1
}
