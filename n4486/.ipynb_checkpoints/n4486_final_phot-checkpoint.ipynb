{
 "cells": [
  {
   "cell_type": "markdown",
   "metadata": {},
   "source": [
    "## Photometry Cookbook\n",
    "This notebook will represent a standard cookbook for performing SLUGGS survey photometry on ground-based data."
   ]
  },
  {
   "cell_type": "code",
   "execution_count": 1,
   "metadata": {
    "collapsed": false
   },
   "outputs": [
    {
     "name": "stderr",
     "output_type": "stream",
     "text": [
      "/Users/zjennings/anaconda/envs/astro/lib/python3.5/site-packages/sklearn/cross_validation.py:44: DeprecationWarning: This module was deprecated in version 0.18 in favor of the model_selection module into which all the refactored classes and functions are moved. Also note that the interface of the new CV iterators are different from that of this module. This module will be removed in 0.20.\n",
      "  \"This module will be removed in 0.20.\", DeprecationWarning)\n",
      "/Users/zjennings/anaconda/envs/astro/lib/python3.5/site-packages/sklearn/grid_search.py:43: DeprecationWarning: This module was deprecated in version 0.18 in favor of the model_selection module into which all the refactored classes and functions are moved. This module will be removed in 0.20.\n",
      "  DeprecationWarning)\n"
     ]
    }
   ],
   "source": [
    "#standard imports\n",
    "%matplotlib inline\n",
    "import seWrapper\n",
    "from imp import reload\n",
    "import os\n",
    "import matplotlib.pyplot as plt\n",
    "import numpy as np\n",
    "reload(seWrapper)\n",
    "\n",
    "import pandas as pd"
   ]
  },
  {
   "cell_type": "code",
   "execution_count": 2,
   "metadata": {
    "collapsed": false
   },
   "outputs": [
    {
     "ename": "OSError",
     "evalue": "File b'n4486_g_final_phot.csv' does not exist",
     "output_type": "error",
     "traceback": [
      "\u001b[0;31m---------------------------------------------------------------------------\u001b[0m",
      "\u001b[0;31mOSError\u001b[0m                                   Traceback (most recent call last)",
      "\u001b[0;32m<ipython-input-2-87c711244c28>\u001b[0m in \u001b[0;36m<module>\u001b[0;34m()\u001b[0m\n\u001b[0;32m----> 1\u001b[0;31m \u001b[0mg_band_data\u001b[0m \u001b[0;34m=\u001b[0m \u001b[0mpd\u001b[0m\u001b[0;34m.\u001b[0m\u001b[0mread_csv\u001b[0m\u001b[0;34m(\u001b[0m\u001b[0;34m'n4486_g_final_phot.csv'\u001b[0m\u001b[0;34m)\u001b[0m\u001b[0;34m\u001b[0m\u001b[0m\n\u001b[0m\u001b[1;32m      2\u001b[0m \u001b[0mr_band_data\u001b[0m \u001b[0;34m=\u001b[0m \u001b[0mpd\u001b[0m\u001b[0;34m.\u001b[0m\u001b[0mread_csv\u001b[0m\u001b[0;34m(\u001b[0m\u001b[0;34m'n4486_r_final_phot.csv'\u001b[0m\u001b[0;34m)\u001b[0m\u001b[0;34m\u001b[0m\u001b[0m\n\u001b[1;32m      3\u001b[0m \u001b[0mi_band_data\u001b[0m \u001b[0;34m=\u001b[0m \u001b[0mpd\u001b[0m\u001b[0;34m.\u001b[0m\u001b[0mread_csv\u001b[0m\u001b[0;34m(\u001b[0m\u001b[0;34m'n4486_i_final_phot.csv'\u001b[0m\u001b[0;34m)\u001b[0m\u001b[0;34m\u001b[0m\u001b[0m\n",
      "\u001b[0;32m/Users/zjennings/anaconda/envs/astro/lib/python3.5/site-packages/pandas/io/parsers.py\u001b[0m in \u001b[0;36mparser_f\u001b[0;34m(filepath_or_buffer, sep, delimiter, header, names, index_col, usecols, squeeze, prefix, mangle_dupe_cols, dtype, engine, converters, true_values, false_values, skipinitialspace, skiprows, skipfooter, nrows, na_values, keep_default_na, na_filter, verbose, skip_blank_lines, parse_dates, infer_datetime_format, keep_date_col, date_parser, dayfirst, iterator, chunksize, compression, thousands, decimal, lineterminator, quotechar, quoting, escapechar, comment, encoding, dialect, tupleize_cols, error_bad_lines, warn_bad_lines, skip_footer, doublequote, delim_whitespace, as_recarray, compact_ints, use_unsigned, low_memory, buffer_lines, memory_map, float_precision)\u001b[0m\n\u001b[1;32m    560\u001b[0m                     skip_blank_lines=skip_blank_lines)\n\u001b[1;32m    561\u001b[0m \u001b[0;34m\u001b[0m\u001b[0m\n\u001b[0;32m--> 562\u001b[0;31m         \u001b[0;32mreturn\u001b[0m \u001b[0m_read\u001b[0m\u001b[0;34m(\u001b[0m\u001b[0mfilepath_or_buffer\u001b[0m\u001b[0;34m,\u001b[0m \u001b[0mkwds\u001b[0m\u001b[0;34m)\u001b[0m\u001b[0;34m\u001b[0m\u001b[0m\n\u001b[0m\u001b[1;32m    563\u001b[0m \u001b[0;34m\u001b[0m\u001b[0m\n\u001b[1;32m    564\u001b[0m     \u001b[0mparser_f\u001b[0m\u001b[0;34m.\u001b[0m\u001b[0m__name__\u001b[0m \u001b[0;34m=\u001b[0m \u001b[0mname\u001b[0m\u001b[0;34m\u001b[0m\u001b[0m\n",
      "\u001b[0;32m/Users/zjennings/anaconda/envs/astro/lib/python3.5/site-packages/pandas/io/parsers.py\u001b[0m in \u001b[0;36m_read\u001b[0;34m(filepath_or_buffer, kwds)\u001b[0m\n\u001b[1;32m    313\u001b[0m \u001b[0;34m\u001b[0m\u001b[0m\n\u001b[1;32m    314\u001b[0m     \u001b[0;31m# Create the parser.\u001b[0m\u001b[0;34m\u001b[0m\u001b[0;34m\u001b[0m\u001b[0m\n\u001b[0;32m--> 315\u001b[0;31m     \u001b[0mparser\u001b[0m \u001b[0;34m=\u001b[0m \u001b[0mTextFileReader\u001b[0m\u001b[0;34m(\u001b[0m\u001b[0mfilepath_or_buffer\u001b[0m\u001b[0;34m,\u001b[0m \u001b[0;34m**\u001b[0m\u001b[0mkwds\u001b[0m\u001b[0;34m)\u001b[0m\u001b[0;34m\u001b[0m\u001b[0m\n\u001b[0m\u001b[1;32m    316\u001b[0m \u001b[0;34m\u001b[0m\u001b[0m\n\u001b[1;32m    317\u001b[0m     \u001b[0;32mif\u001b[0m \u001b[0;34m(\u001b[0m\u001b[0mnrows\u001b[0m \u001b[0;32mis\u001b[0m \u001b[0;32mnot\u001b[0m \u001b[0;32mNone\u001b[0m\u001b[0;34m)\u001b[0m \u001b[0;32mand\u001b[0m \u001b[0;34m(\u001b[0m\u001b[0mchunksize\u001b[0m \u001b[0;32mis\u001b[0m \u001b[0;32mnot\u001b[0m \u001b[0;32mNone\u001b[0m\u001b[0;34m)\u001b[0m\u001b[0;34m:\u001b[0m\u001b[0;34m\u001b[0m\u001b[0m\n",
      "\u001b[0;32m/Users/zjennings/anaconda/envs/astro/lib/python3.5/site-packages/pandas/io/parsers.py\u001b[0m in \u001b[0;36m__init__\u001b[0;34m(self, f, engine, **kwds)\u001b[0m\n\u001b[1;32m    643\u001b[0m             \u001b[0mself\u001b[0m\u001b[0;34m.\u001b[0m\u001b[0moptions\u001b[0m\u001b[0;34m[\u001b[0m\u001b[0;34m'has_index_names'\u001b[0m\u001b[0;34m]\u001b[0m \u001b[0;34m=\u001b[0m \u001b[0mkwds\u001b[0m\u001b[0;34m[\u001b[0m\u001b[0;34m'has_index_names'\u001b[0m\u001b[0;34m]\u001b[0m\u001b[0;34m\u001b[0m\u001b[0m\n\u001b[1;32m    644\u001b[0m \u001b[0;34m\u001b[0m\u001b[0m\n\u001b[0;32m--> 645\u001b[0;31m         \u001b[0mself\u001b[0m\u001b[0;34m.\u001b[0m\u001b[0m_make_engine\u001b[0m\u001b[0;34m(\u001b[0m\u001b[0mself\u001b[0m\u001b[0;34m.\u001b[0m\u001b[0mengine\u001b[0m\u001b[0;34m)\u001b[0m\u001b[0;34m\u001b[0m\u001b[0m\n\u001b[0m\u001b[1;32m    646\u001b[0m \u001b[0;34m\u001b[0m\u001b[0m\n\u001b[1;32m    647\u001b[0m     \u001b[0;32mdef\u001b[0m \u001b[0mclose\u001b[0m\u001b[0;34m(\u001b[0m\u001b[0mself\u001b[0m\u001b[0;34m)\u001b[0m\u001b[0;34m:\u001b[0m\u001b[0;34m\u001b[0m\u001b[0m\n",
      "\u001b[0;32m/Users/zjennings/anaconda/envs/astro/lib/python3.5/site-packages/pandas/io/parsers.py\u001b[0m in \u001b[0;36m_make_engine\u001b[0;34m(self, engine)\u001b[0m\n\u001b[1;32m    797\u001b[0m     \u001b[0;32mdef\u001b[0m \u001b[0m_make_engine\u001b[0m\u001b[0;34m(\u001b[0m\u001b[0mself\u001b[0m\u001b[0;34m,\u001b[0m \u001b[0mengine\u001b[0m\u001b[0;34m=\u001b[0m\u001b[0;34m'c'\u001b[0m\u001b[0;34m)\u001b[0m\u001b[0;34m:\u001b[0m\u001b[0;34m\u001b[0m\u001b[0m\n\u001b[1;32m    798\u001b[0m         \u001b[0;32mif\u001b[0m \u001b[0mengine\u001b[0m \u001b[0;34m==\u001b[0m \u001b[0;34m'c'\u001b[0m\u001b[0;34m:\u001b[0m\u001b[0;34m\u001b[0m\u001b[0m\n\u001b[0;32m--> 799\u001b[0;31m             \u001b[0mself\u001b[0m\u001b[0;34m.\u001b[0m\u001b[0m_engine\u001b[0m \u001b[0;34m=\u001b[0m \u001b[0mCParserWrapper\u001b[0m\u001b[0;34m(\u001b[0m\u001b[0mself\u001b[0m\u001b[0;34m.\u001b[0m\u001b[0mf\u001b[0m\u001b[0;34m,\u001b[0m \u001b[0;34m**\u001b[0m\u001b[0mself\u001b[0m\u001b[0;34m.\u001b[0m\u001b[0moptions\u001b[0m\u001b[0;34m)\u001b[0m\u001b[0;34m\u001b[0m\u001b[0m\n\u001b[0m\u001b[1;32m    800\u001b[0m         \u001b[0;32melse\u001b[0m\u001b[0;34m:\u001b[0m\u001b[0;34m\u001b[0m\u001b[0m\n\u001b[1;32m    801\u001b[0m             \u001b[0;32mif\u001b[0m \u001b[0mengine\u001b[0m \u001b[0;34m==\u001b[0m \u001b[0;34m'python'\u001b[0m\u001b[0;34m:\u001b[0m\u001b[0;34m\u001b[0m\u001b[0m\n",
      "\u001b[0;32m/Users/zjennings/anaconda/envs/astro/lib/python3.5/site-packages/pandas/io/parsers.py\u001b[0m in \u001b[0;36m__init__\u001b[0;34m(self, src, **kwds)\u001b[0m\n\u001b[1;32m   1211\u001b[0m         \u001b[0mkwds\u001b[0m\u001b[0;34m[\u001b[0m\u001b[0;34m'allow_leading_cols'\u001b[0m\u001b[0;34m]\u001b[0m \u001b[0;34m=\u001b[0m \u001b[0mself\u001b[0m\u001b[0;34m.\u001b[0m\u001b[0mindex_col\u001b[0m \u001b[0;32mis\u001b[0m \u001b[0;32mnot\u001b[0m \u001b[0;32mFalse\u001b[0m\u001b[0;34m\u001b[0m\u001b[0m\n\u001b[1;32m   1212\u001b[0m \u001b[0;34m\u001b[0m\u001b[0m\n\u001b[0;32m-> 1213\u001b[0;31m         \u001b[0mself\u001b[0m\u001b[0;34m.\u001b[0m\u001b[0m_reader\u001b[0m \u001b[0;34m=\u001b[0m \u001b[0m_parser\u001b[0m\u001b[0;34m.\u001b[0m\u001b[0mTextReader\u001b[0m\u001b[0;34m(\u001b[0m\u001b[0msrc\u001b[0m\u001b[0;34m,\u001b[0m \u001b[0;34m**\u001b[0m\u001b[0mkwds\u001b[0m\u001b[0;34m)\u001b[0m\u001b[0;34m\u001b[0m\u001b[0m\n\u001b[0m\u001b[1;32m   1214\u001b[0m \u001b[0;34m\u001b[0m\u001b[0m\n\u001b[1;32m   1215\u001b[0m         \u001b[0;31m# XXX\u001b[0m\u001b[0;34m\u001b[0m\u001b[0;34m\u001b[0m\u001b[0m\n",
      "\u001b[0;32mpandas/parser.pyx\u001b[0m in \u001b[0;36mpandas.parser.TextReader.__cinit__ (pandas/parser.c:3427)\u001b[0;34m()\u001b[0m\n",
      "\u001b[0;32mpandas/parser.pyx\u001b[0m in \u001b[0;36mpandas.parser.TextReader._setup_parser_source (pandas/parser.c:6861)\u001b[0;34m()\u001b[0m\n",
      "\u001b[0;31mOSError\u001b[0m: File b'n4486_g_final_phot.csv' does not exist"
     ]
    }
   ],
   "source": [
    "g_band_data = pd.read_csv('n4486_g_final_phot.csv')\n",
    "r_band_data = pd.read_csv('n4486_r_final_phot.csv')\n",
    "i_band_data = pd.read_csv('n4486_i_final_phot.csv')"
   ]
  },
  {
   "cell_type": "code",
   "execution_count": null,
   "metadata": {
    "collapsed": false
   },
   "outputs": [],
   "source": [
    "se_g = seWrapper.seCatalog()\n",
    "se_g.create_new_catalog_arrs(g_band_data['ra'],\\\n",
    "                        g_band_data['dec'],\\\n",
    "                           fil='g',\\\n",
    "                        mags = g_band_data['mag'],\n",
    "                        fwhm = g_band_data['fwhm'],\n",
    "                       flags = g_band_data['flag'],\n",
    "                       ellipticity = g_band_data['ellip'],\n",
    "                        merr = g_band_data['merr'])"
   ]
  },
  {
   "cell_type": "code",
   "execution_count": null,
   "metadata": {
    "collapsed": true
   },
   "outputs": [],
   "source": [
    "se_r = seWrapper.seCatalog()\n",
    "se_r.create_new_catalog_arrs(r_band_data['ra'],\\\n",
    "                        r_band_data['dec'],\\\n",
    "                           fil='r',\\\n",
    "                        mags = r_band_data['mag'],\n",
    "                        fwhm = r_band_data['fwhm'],\n",
    "                       flags = r_band_data['flag'],\n",
    "                       ellipticity = r_band_data['ellip'],\n",
    "                            merr = r_band_data['merr'])"
   ]
  },
  {
   "cell_type": "code",
   "execution_count": null,
   "metadata": {
    "collapsed": true
   },
   "outputs": [],
   "source": [
    "se_i = seWrapper.seCatalog()\n",
    "se_i.create_new_catalog_arrs(i_band_data['ra'],\\\n",
    "                        i_band_data['dec'],\\\n",
    "                           fil='i',\\\n",
    "                        mags = i_band_data['mag'],\n",
    "                        fwhm = i_band_data['fwhm'],\n",
    "                       flags = i_band_data['flag'],\n",
    "                       ellipticity = i_band_data['ellip'],\n",
    "                            merr = i_band_data['merr'])"
   ]
  },
  {
   "cell_type": "code",
   "execution_count": null,
   "metadata": {
    "collapsed": false
   },
   "outputs": [],
   "source": [
    "se_g.mergeCatalog(se_r)\n"
   ]
  },
  {
   "cell_type": "code",
   "execution_count": 3,
   "metadata": {
    "collapsed": false
   },
   "outputs": [
    {
     "ename": "NameError",
     "evalue": "name 'se_g' is not defined",
     "output_type": "error",
     "traceback": [
      "\u001b[0;31m---------------------------------------------------------------------------\u001b[0m",
      "\u001b[0;31mNameError\u001b[0m                                 Traceback (most recent call last)",
      "\u001b[0;32m<ipython-input-3-a9c2a2aa90de>\u001b[0m in \u001b[0;36m<module>\u001b[0;34m()\u001b[0m\n\u001b[0;32m----> 1\u001b[0;31m \u001b[0mse_g\u001b[0m\u001b[0;34m.\u001b[0m\u001b[0mmergeCatalog\u001b[0m\u001b[0;34m(\u001b[0m\u001b[0mse_i\u001b[0m\u001b[0;34m)\u001b[0m\u001b[0;34m\u001b[0m\u001b[0m\n\u001b[0m",
      "\u001b[0;31mNameError\u001b[0m: name 'se_g' is not defined"
     ]
    }
   ],
   "source": [
    "se_g.mergeCatalog(se_i)"
   ]
  },
  {
   "cell_type": "code",
   "execution_count": 4,
   "metadata": {
    "collapsed": false
   },
   "outputs": [
    {
     "ename": "NameError",
     "evalue": "name 'se_g' is not defined",
     "output_type": "error",
     "traceback": [
      "\u001b[0;31m---------------------------------------------------------------------------\u001b[0m",
      "\u001b[0;31mNameError\u001b[0m                                 Traceback (most recent call last)",
      "\u001b[0;32m<ipython-input-4-d362d61fca8e>\u001b[0m in \u001b[0;36m<module>\u001b[0;34m()\u001b[0m\n\u001b[0;32m----> 1\u001b[0;31m \u001b[0mall_detections\u001b[0m \u001b[0;34m=\u001b[0m \u001b[0;34m(\u001b[0m\u001b[0mse_g\u001b[0m\u001b[0;34m.\u001b[0m\u001b[0mmags\u001b[0m\u001b[0;34m[\u001b[0m\u001b[0;34m'g'\u001b[0m\u001b[0;34m]\u001b[0m \u001b[0;34m<\u001b[0m \u001b[0;36m90\u001b[0m\u001b[0;34m)\u001b[0m \u001b[0;34m&\u001b[0m \u001b[0;34m(\u001b[0m\u001b[0mse_g\u001b[0m\u001b[0;34m.\u001b[0m\u001b[0mmags\u001b[0m\u001b[0;34m[\u001b[0m\u001b[0;34m'r'\u001b[0m\u001b[0;34m]\u001b[0m \u001b[0;34m<\u001b[0m \u001b[0;36m90\u001b[0m\u001b[0;34m)\u001b[0m \u001b[0;34m&\u001b[0m \u001b[0;34m(\u001b[0m\u001b[0mse_g\u001b[0m\u001b[0;34m.\u001b[0m\u001b[0mmags\u001b[0m\u001b[0;34m[\u001b[0m\u001b[0;34m'i'\u001b[0m\u001b[0;34m]\u001b[0m \u001b[0;34m<\u001b[0m \u001b[0;36m90\u001b[0m\u001b[0;34m)\u001b[0m\u001b[0;34m\u001b[0m\u001b[0m\n\u001b[0m",
      "\u001b[0;31mNameError\u001b[0m: name 'se_g' is not defined"
     ]
    }
   ],
   "source": [
    "all_detections = (se_g.mags['g'] < 90) & (se_g.mags['r'] < 90) & (se_g.mags['i'] < 90) "
   ]
  },
  {
   "cell_type": "code",
   "execution_count": 11,
   "metadata": {
    "collapsed": false
   },
   "outputs": [],
   "source": [
    "gi_all_detections = se_g.mags['g'][all_detections] - se_g.mags['i'][all_detections]"
   ]
  },
  {
   "cell_type": "code",
   "execution_count": 12,
   "metadata": {
    "collapsed": false
   },
   "outputs": [
    {
     "data": {
      "text/plain": [
       "array([ 187.6361099,  187.4147781,  187.1151346, ...,  187.6739505,\n",
       "        187.5639935,  187.4191104])"
      ]
     },
     "execution_count": 12,
     "metadata": {},
     "output_type": "execute_result"
    }
   ],
   "source": [
    "se_g.coords.ra.degree"
   ]
  },
  {
   "cell_type": "code",
   "execution_count": 13,
   "metadata": {
    "collapsed": false
   },
   "outputs": [],
   "source": [
    "#Now that catalogs are joined, put everything in a pandas data frame. Note that if I had written\n",
    "#my catalog code a year later, it would be written with the intention of doing this from the beginning...\n",
    "catalog_dict = {}\n",
    "\n",
    "#get the ra and dec from the coordinate object and place them in a pandas series\n",
    "catalog_dict['ra'] = pd.Series(se_g.coords.ra.degree)\n",
    "catalog_dict['dec'] = pd.Series(se_g.coords.dec.degree)\n",
    "\n",
    "#put the mags in pandas series:\n",
    "catalog_dict['g_mag'] = pd.Series(se_g.mags['g'])\n",
    "catalog_dict['r_mag'] = pd.Series(se_g.mags['r'])\n",
    "catalog_dict['i_mag'] = pd.Series(se_g.mags['i'])\n",
    "\n",
    "#same for the merrs:\n",
    "catalog_dict['g_merr'] = pd.Series(se_g.merr['g'])\n",
    "catalog_dict['r_merr'] = pd.Series(se_g.merr['r'])\n",
    "catalog_dict['i_merr'] = pd.Series(se_g.merr['i'])\n",
    "\n",
    "#same for the fwhm:\n",
    "catalog_dict['g_fwhm'] = pd.Series(se_g.fwhm['g'])\n",
    "catalog_dict['r_fwhm'] = pd.Series(se_g.fwhm['r'])\n",
    "catalog_dict['i_fwhm'] = pd.Series(se_g.fwhm['i'])\n",
    "\n",
    "#same for the ellipticity:\n",
    "catalog_dict['g_ellip'] = pd.Series(se_g.ellipticity['g'])\n",
    "catalog_dict['r_ellip'] = pd.Series(se_g.ellipticity['r'])\n",
    "catalog_dict['i_ellip'] = pd.Series(se_g.ellipticity['i'])\n",
    "\n",
    "#same for the flags:\n",
    "catalog_dict['g_flags'] = pd.Series(se_g.flags['g'])\n",
    "catalog_dict['r_flags'] = pd.Series(se_g.flags['r'])\n",
    "catalog_dict['i_flags'] = pd.Series(se_g.flags['i'])"
   ]
  },
  {
   "cell_type": "code",
   "execution_count": 14,
   "metadata": {
    "collapsed": false
   },
   "outputs": [],
   "source": [
    "catalog = pd.DataFrame(catalog_dict)"
   ]
  },
  {
   "cell_type": "code",
   "execution_count": 15,
   "metadata": {
    "collapsed": false
   },
   "outputs": [],
   "source": [
    "catalog.to_csv('n4473_phot_combined.csv')"
   ]
  },
  {
   "cell_type": "code",
   "execution_count": 16,
   "metadata": {
    "collapsed": true
   },
   "outputs": [],
   "source": [
    "detected = (catalog['g_mag'] < 90) & (catalog['r_mag'] < 90) & (catalog['i_mag'] < 90)"
   ]
  },
  {
   "cell_type": "code",
   "execution_count": 17,
   "metadata": {
    "collapsed": false
   },
   "outputs": [],
   "source": [
    "detections = catalog.ix[detected,:]"
   ]
  },
  {
   "cell_type": "code",
   "execution_count": 18,
   "metadata": {
    "collapsed": true
   },
   "outputs": [],
   "source": [
    "good_source = (detections['i_fwhm'] > 2.5) & (detections['i_fwhm'] < 3.0)\n",
    "good_sources = detections.ix[good_source,:]"
   ]
  },
  {
   "cell_type": "code",
   "execution_count": null,
   "metadata": {
    "collapsed": false
   },
   "outputs": [],
   "source": []
  },
  {
   "cell_type": "code",
   "execution_count": 19,
   "metadata": {
    "collapsed": false
   },
   "outputs": [
    {
     "data": {
      "text/plain": [
       "(-0.5, 1.0)"
      ]
     },
     "execution_count": 19,
     "metadata": {},
     "output_type": "execute_result"
    },
    {
     "data": {
      "image/png": "[encoded data removed]",
      "text/plain": [
       "<matplotlib.figure.Figure at 0x10d4e3320>"
      ]
     },
     "metadata": {},
     "output_type": "display_data"
    }
   ],
   "source": [
    "fig,ax = plt.subplots(1,1,figsize=(10,5))\n",
    "ax.scatter(detections['g_mag'] - detections['i_mag'], detections['r_mag'] - detections['i_mag'],s=0.05)\n",
    "ax.scatter(good_sources['g_mag'] - good_sources['i_mag'], good_sources['r_mag'] - good_sources['i_mag'],\\\n",
    "           color='b',s=0.5)\n",
    "\n",
    "ax.set_xlim(0.0,1.5)\n",
    "ax.set_ylim(-0.5,1.0)"
   ]
  },
  {
   "cell_type": "markdown",
   "metadata": {},
   "source": [
    "### Steps:\n",
    "1. Use the aperture correction cookbook to calculate aperture corrections for each filter. \n",
    "2. Use the zero-point cookbook to calculate zero-points for each filter. (not ready yet)\n",
    "3. Use the completeness curve cookbook to calculate completeness curves for each filter. \n",
    "4. Combine all photometry into a single catalog file using this notebook.\n",
    "5. Calculate final zero-points by comparing the color-color distributions of sample foreground star populations with those observed in the data. "
   ]
  },
  {
   "cell_type": "markdown",
   "metadata": {},
   "source": [
    "### 1. Calculate the aperture corrections for each  filter.\n",
    "Standard procedure will be to create an individual aperture correction notebook for each filter. Follow the \"aperture_correction_cookbook.ipynb\" format. Record the aperture corrections both below and on the google spreadsheet, and commit the notebooks to show work."
   ]
  },
  {
   "cell_type": "code",
   "execution_count": 3,
   "metadata": {
    "collapsed": true
   },
   "outputs": [],
   "source": [
    "#aperture corrections:\n",
    "g_band_apr_cor = 0.3\n",
    "r_band_aper_cor = 0.3\n",
    "i_band_aper_cor = 0.3"
   ]
  },
  {
   "cell_type": "markdown",
   "metadata": {},
   "source": [
    "### 2. Calculate initial zero-points for each filter. \n",
    "For galaxies that overlap with SDSS, we will calculate zero-points with overlapping SDSS photometry. Use the sdss_zero_point_cookbook.ipynb to calculate this."
   ]
  },
  {
   "cell_type": "code",
   "execution_count": 2,
   "metadata": {
    "collapsed": true
   },
   "outputs": [],
   "source": [
    "#zero-points\n",
    "g_band_zpt = 30.\n",
    "r_band_zpt = 30.\n",
    "i_band_zpt = 30."
   ]
  },
  {
   "cell_type": "markdown",
   "metadata": {},
   "source": [
    "### 3. Calculate the completeness curves for each filter. \n",
    "Re-run photometry with new zero-points used, for convenience sake. Then use the fake_star_notebook to perform fake star photometry. Then use the completeness curve notebook to calculate completeness curves and save the completeness object as a pickle."
   ]
  },
  {
   "cell_type": "markdown",
   "metadata": {},
   "source": [
    "### 4. Combine the catalogs using the code below."
   ]
  },
  {
   "cell_type": "code",
   "execution_count": 15,
   "metadata": {
    "collapsed": false
   },
   "outputs": [],
   "source": [
    "se = seWrapper.seCatalog()"
   ]
  },
  {
   "cell_type": "code",
   "execution_count": 22,
   "metadata": {
    "collapsed": false
   },
   "outputs": [
    {
     "ename": "ValueError",
     "evalue": "could not convert string to float: ",
     "output_type": "error",
     "traceback": [
      "\u001b[0;31m---------------------------------------------------------------------------\u001b[0m",
      "\u001b[0;31mValueError\u001b[0m                                Traceback (most recent call last)",
      "\u001b[0;32m<ipython-input-22-3b1d984a2e0f>\u001b[0m in \u001b[0;36m<module>\u001b[0;34m()\u001b[0m\n\u001b[1;32m      1\u001b[0m \u001b[0mse_g\u001b[0m \u001b[0;34m=\u001b[0m \u001b[0mseWrapper\u001b[0m\u001b[0;34m.\u001b[0m\u001b[0mseCatalog\u001b[0m\u001b[0;34m(\u001b[0m\u001b[0;34m)\u001b[0m\u001b[0;34m\u001b[0m\u001b[0m\n\u001b[0;32m----> 2\u001b[0;31m \u001b[0mse_g\u001b[0m\u001b[0;34m.\u001b[0m\u001b[0mcreate_new_catalog_file\u001b[0m\u001b[0;34m(\u001b[0m\u001b[0;34m'ngvs_bg_2_g_final.csv'\u001b[0m\u001b[0;34m,\u001b[0m\u001b[0mfilter\u001b[0m\u001b[0;34m=\u001b[0m\u001b[0;34m'g'\u001b[0m\u001b[0;34m,\u001b[0m\u001b[0mdelimiter\u001b[0m\u001b[0;34m=\u001b[0m\u001b[0;34m','\u001b[0m\u001b[0;34m,\u001b[0m\u001b[0mdtype\u001b[0m\u001b[0;34m=\u001b[0m\u001b[0;34m'float'\u001b[0m\u001b[0;34m)\u001b[0m\u001b[0;34m\u001b[0m\u001b[0m\n\u001b[0m\u001b[1;32m      3\u001b[0m \u001b[0mse_r\u001b[0m \u001b[0;34m=\u001b[0m \u001b[0mseWrapper\u001b[0m\u001b[0;34m.\u001b[0m\u001b[0mseCatalog\u001b[0m\u001b[0;34m(\u001b[0m\u001b[0;34m)\u001b[0m\u001b[0;34m\u001b[0m\u001b[0m\n\u001b[1;32m      4\u001b[0m \u001b[0mse_r\u001b[0m\u001b[0;34m.\u001b[0m\u001b[0mcreate_new_catalog_file\u001b[0m\u001b[0;34m(\u001b[0m\u001b[0;34m'ngvs_bg_2_r_final.csv'\u001b[0m\u001b[0;34m,\u001b[0m\u001b[0mfilter\u001b[0m\u001b[0;34m=\u001b[0m\u001b[0;34m'r'\u001b[0m\u001b[0;34m)\u001b[0m\u001b[0;34m\u001b[0m\u001b[0m\n\u001b[1;32m      5\u001b[0m \u001b[0mse_i\u001b[0m \u001b[0;34m=\u001b[0m \u001b[0mseWrapper\u001b[0m\u001b[0;34m.\u001b[0m\u001b[0mseCatalog\u001b[0m\u001b[0;34m(\u001b[0m\u001b[0;34m)\u001b[0m\u001b[0;34m\u001b[0m\u001b[0m\n",
      "\u001b[0;32m/Users/zjennings/astro/sluggs_phot_calibration/seWrapper.py\u001b[0m in \u001b[0;36mcreate_new_catalog_file\u001b[0;34m(self, output_file, filter, **kwargs)\u001b[0m\n\u001b[1;32m     27\u001b[0m \u001b[0;34m\u001b[0m\u001b[0m\n\u001b[1;32m     28\u001b[0m     \u001b[0;32mdef\u001b[0m \u001b[0mcreate_new_catalog_file\u001b[0m\u001b[0;34m(\u001b[0m\u001b[0mself\u001b[0m\u001b[0;34m,\u001b[0m\u001b[0moutput_file\u001b[0m\u001b[0;34m,\u001b[0m\u001b[0mfilter\u001b[0m\u001b[0;34m=\u001b[0m\u001b[0;34m'g'\u001b[0m\u001b[0;34m,\u001b[0m\u001b[0;34m**\u001b[0m\u001b[0mkwargs\u001b[0m\u001b[0;34m)\u001b[0m\u001b[0;34m:\u001b[0m\u001b[0;34m\u001b[0m\u001b[0m\n\u001b[0;32m---> 29\u001b[0;31m         \u001b[0mnew_catalog\u001b[0m \u001b[0;34m=\u001b[0m \u001b[0mnp\u001b[0m\u001b[0;34m.\u001b[0m\u001b[0mloadtxt\u001b[0m\u001b[0;34m(\u001b[0m\u001b[0moutput_file\u001b[0m\u001b[0;34m,\u001b[0m\u001b[0mcomments\u001b[0m\u001b[0;34m=\u001b[0m\u001b[0;34m'#'\u001b[0m\u001b[0;34m,\u001b[0m\u001b[0;34m**\u001b[0m\u001b[0mkwargs\u001b[0m\u001b[0;34m)\u001b[0m\u001b[0;34m\u001b[0m\u001b[0m\n\u001b[0m\u001b[1;32m     30\u001b[0m         \u001b[0mbad\u001b[0m \u001b[0;34m=\u001b[0m \u001b[0mnew_catalog\u001b[0m\u001b[0;34m[\u001b[0m\u001b[0;34m:\u001b[0m\u001b[0;34m,\u001b[0m\u001b[0;36m2\u001b[0m\u001b[0;34m]\u001b[0m \u001b[0;34m>\u001b[0m \u001b[0;36m90\u001b[0m\u001b[0;34m\u001b[0m\u001b[0m\n\u001b[1;32m     31\u001b[0m         \u001b[0mnew_catalog\u001b[0m\u001b[0;34m=\u001b[0m\u001b[0mnew_catalog\u001b[0m\u001b[0;34m[\u001b[0m\u001b[0;34m~\u001b[0m\u001b[0mbad\u001b[0m\u001b[0;34m,\u001b[0m\u001b[0;34m:\u001b[0m\u001b[0;34m]\u001b[0m\u001b[0;34m\u001b[0m\u001b[0m\n",
      "\u001b[0;32m/Users/zjennings/anaconda/envs/astro/lib/python3.5/site-packages/numpy/lib/npyio.py\u001b[0m in \u001b[0;36mloadtxt\u001b[0;34m(fname, dtype, comments, delimiter, converters, skiprows, usecols, unpack, ndmin)\u001b[0m\n\u001b[1;32m    928\u001b[0m \u001b[0;34m\u001b[0m\u001b[0m\n\u001b[1;32m    929\u001b[0m             \u001b[0;31m# Convert each value according to its column and store\u001b[0m\u001b[0;34m\u001b[0m\u001b[0;34m\u001b[0m\u001b[0m\n\u001b[0;32m--> 930\u001b[0;31m             \u001b[0mitems\u001b[0m \u001b[0;34m=\u001b[0m \u001b[0;34m[\u001b[0m\u001b[0mconv\u001b[0m\u001b[0;34m(\u001b[0m\u001b[0mval\u001b[0m\u001b[0;34m)\u001b[0m \u001b[0;32mfor\u001b[0m \u001b[0;34m(\u001b[0m\u001b[0mconv\u001b[0m\u001b[0;34m,\u001b[0m \u001b[0mval\u001b[0m\u001b[0;34m)\u001b[0m \u001b[0;32min\u001b[0m \u001b[0mzip\u001b[0m\u001b[0;34m(\u001b[0m\u001b[0mconverters\u001b[0m\u001b[0;34m,\u001b[0m \u001b[0mvals\u001b[0m\u001b[0;34m)\u001b[0m\u001b[0;34m]\u001b[0m\u001b[0;34m\u001b[0m\u001b[0m\n\u001b[0m\u001b[1;32m    931\u001b[0m             \u001b[0;31m# Then pack it according to the dtype's nesting\u001b[0m\u001b[0;34m\u001b[0m\u001b[0;34m\u001b[0m\u001b[0m\n\u001b[1;32m    932\u001b[0m             \u001b[0mitems\u001b[0m \u001b[0;34m=\u001b[0m \u001b[0mpack_items\u001b[0m\u001b[0;34m(\u001b[0m\u001b[0mitems\u001b[0m\u001b[0;34m,\u001b[0m \u001b[0mpacking\u001b[0m\u001b[0;34m)\u001b[0m\u001b[0;34m\u001b[0m\u001b[0m\n",
      "\u001b[0;32m/Users/zjennings/anaconda/envs/astro/lib/python3.5/site-packages/numpy/lib/npyio.py\u001b[0m in \u001b[0;36m<listcomp>\u001b[0;34m(.0)\u001b[0m\n\u001b[1;32m    928\u001b[0m \u001b[0;34m\u001b[0m\u001b[0m\n\u001b[1;32m    929\u001b[0m             \u001b[0;31m# Convert each value according to its column and store\u001b[0m\u001b[0;34m\u001b[0m\u001b[0;34m\u001b[0m\u001b[0m\n\u001b[0;32m--> 930\u001b[0;31m             \u001b[0mitems\u001b[0m \u001b[0;34m=\u001b[0m \u001b[0;34m[\u001b[0m\u001b[0mconv\u001b[0m\u001b[0;34m(\u001b[0m\u001b[0mval\u001b[0m\u001b[0;34m)\u001b[0m \u001b[0;32mfor\u001b[0m \u001b[0;34m(\u001b[0m\u001b[0mconv\u001b[0m\u001b[0;34m,\u001b[0m \u001b[0mval\u001b[0m\u001b[0;34m)\u001b[0m \u001b[0;32min\u001b[0m \u001b[0mzip\u001b[0m\u001b[0;34m(\u001b[0m\u001b[0mconverters\u001b[0m\u001b[0;34m,\u001b[0m \u001b[0mvals\u001b[0m\u001b[0;34m)\u001b[0m\u001b[0;34m]\u001b[0m\u001b[0;34m\u001b[0m\u001b[0m\n\u001b[0m\u001b[1;32m    931\u001b[0m             \u001b[0;31m# Then pack it according to the dtype's nesting\u001b[0m\u001b[0;34m\u001b[0m\u001b[0;34m\u001b[0m\u001b[0m\n\u001b[1;32m    932\u001b[0m             \u001b[0mitems\u001b[0m \u001b[0;34m=\u001b[0m \u001b[0mpack_items\u001b[0m\u001b[0;34m(\u001b[0m\u001b[0mitems\u001b[0m\u001b[0;34m,\u001b[0m \u001b[0mpacking\u001b[0m\u001b[0;34m)\u001b[0m\u001b[0;34m\u001b[0m\u001b[0m\n",
      "\u001b[0;32m/Users/zjennings/anaconda/envs/astro/lib/python3.5/site-packages/numpy/lib/npyio.py\u001b[0m in \u001b[0;36mfloatconv\u001b[0;34m(x)\u001b[0m\n\u001b[1;32m    657\u001b[0m         \u001b[0;32mif\u001b[0m \u001b[0;34mb'0x'\u001b[0m \u001b[0;32min\u001b[0m \u001b[0mx\u001b[0m\u001b[0;34m:\u001b[0m\u001b[0;34m\u001b[0m\u001b[0m\n\u001b[1;32m    658\u001b[0m             \u001b[0;32mreturn\u001b[0m \u001b[0mfloat\u001b[0m\u001b[0;34m.\u001b[0m\u001b[0mfromhex\u001b[0m\u001b[0;34m(\u001b[0m\u001b[0masstr\u001b[0m\u001b[0;34m(\u001b[0m\u001b[0mx\u001b[0m\u001b[0;34m)\u001b[0m\u001b[0;34m)\u001b[0m\u001b[0;34m\u001b[0m\u001b[0m\n\u001b[0;32m--> 659\u001b[0;31m         \u001b[0;32mreturn\u001b[0m \u001b[0mfloat\u001b[0m\u001b[0;34m(\u001b[0m\u001b[0mx\u001b[0m\u001b[0;34m)\u001b[0m\u001b[0;34m\u001b[0m\u001b[0m\n\u001b[0m\u001b[1;32m    660\u001b[0m \u001b[0;34m\u001b[0m\u001b[0m\n\u001b[1;32m    661\u001b[0m     \u001b[0mtyp\u001b[0m \u001b[0;34m=\u001b[0m \u001b[0mdtype\u001b[0m\u001b[0;34m.\u001b[0m\u001b[0mtype\u001b[0m\u001b[0;34m\u001b[0m\u001b[0m\n",
      "\u001b[0;31mValueError\u001b[0m: could not convert string to float: "
     ]
    }
   ],
   "source": [
    "se_g = seWrapper.seCatalog()\n",
    "se_g.create_new_catalog_file('ngvs_bg_2_g_final.csv',filter='g')\n",
    "se_r = seWrapper.seCatalog()\n",
    "se_r.create_new_catalog_file('ngvs_bg_2_r_final.csv',filter='r')\n",
    "se_i = seWrapper.seCatalog()\n",
    "se_i.create_new_catalog_file('ngvs_bg_2_i_final.csv',filter='i')"
   ]
  },
  {
   "cell_type": "code",
   "execution_count": 26,
   "metadata": {
    "collapsed": false
   },
   "outputs": [],
   "source": [
    "data = np.loadtxt('ngvs_bg_2_g_final.csv',delimiter=',',dtype='str')"
   ]
  },
  {
   "cell_type": "code",
   "execution_count": 31,
   "metadata": {
    "collapsed": false
   },
   "outputs": [],
   "source": [
    "new_catalog = pd.read_csv('ngvs_bg_2_g_final.csv')"
   ]
  },
  {
   "cell_type": "code",
   "execution_count": 34,
   "metadata": {
    "collapsed": false
   },
   "outputs": [],
   "source": [
    "bad = new_catalog['mag'] > 90"
   ]
  },
  {
   "cell_type": "code",
   "execution_count": 38,
   "metadata": {
    "collapsed": false
   },
   "outputs": [],
   "source": [
    "new_catalog_cut = new_catalog.ix[~bad,:]"
   ]
  },
  {
   "cell_type": "code",
   "execution_count": 39,
   "metadata": {
    "collapsed": false
   },
   "outputs": [
    {
     "data": {
      "text/html": [
       "<div>\n",
       "<table border=\"1\" class=\"dataframe\">\n",
       "  <thead>\n",
       "    <tr style=\"text-align: right;\">\n",
       "      <th></th>\n",
       "      <th>Unnamed: 0</th>\n",
       "      <th>ra</th>\n",
       "      <th>dec</th>\n",
       "      <th>mag</th>\n",
       "      <th>merr</th>\n",
       "      <th>fwhm</th>\n",
       "      <th>ellip</th>\n",
       "      <th>flag</th>\n",
       "    </tr>\n",
       "  </thead>\n",
       "  <tbody>\n",
       "    <tr>\n",
       "      <th>0</th>\n",
       "      <td>0</td>\n",
       "      <td>181.233028</td>\n",
       "      <td>26.832466</td>\n",
       "      <td>26.1346</td>\n",
       "      <td>0.2502</td>\n",
       "      <td>0.0</td>\n",
       "      <td>0.207</td>\n",
       "      <td>4</td>\n",
       "    </tr>\n",
       "    <tr>\n",
       "      <th>1</th>\n",
       "      <td>1</td>\n",
       "      <td>181.213433</td>\n",
       "      <td>26.832490</td>\n",
       "      <td>26.3272</td>\n",
       "      <td>0.2863</td>\n",
       "      <td>0.0</td>\n",
       "      <td>0.505</td>\n",
       "      <td>4</td>\n",
       "    </tr>\n",
       "    <tr>\n",
       "      <th>3</th>\n",
       "      <td>3</td>\n",
       "      <td>181.176011</td>\n",
       "      <td>26.832615</td>\n",
       "      <td>30.4840</td>\n",
       "      <td>9.6262</td>\n",
       "      <td>0.0</td>\n",
       "      <td>0.346</td>\n",
       "      <td>4</td>\n",
       "    </tr>\n",
       "    <tr>\n",
       "      <th>4</th>\n",
       "      <td>4</td>\n",
       "      <td>181.163832</td>\n",
       "      <td>26.832683</td>\n",
       "      <td>27.0291</td>\n",
       "      <td>0.4807</td>\n",
       "      <td>0.0</td>\n",
       "      <td>0.383</td>\n",
       "      <td>6</td>\n",
       "    </tr>\n",
       "    <tr>\n",
       "      <th>5</th>\n",
       "      <td>5</td>\n",
       "      <td>181.275251</td>\n",
       "      <td>26.832531</td>\n",
       "      <td>25.6579</td>\n",
       "      <td>0.1831</td>\n",
       "      <td>0.0</td>\n",
       "      <td>0.739</td>\n",
       "      <td>4</td>\n",
       "    </tr>\n",
       "    <tr>\n",
       "      <th>6</th>\n",
       "      <td>6</td>\n",
       "      <td>181.140594</td>\n",
       "      <td>26.832592</td>\n",
       "      <td>26.5537</td>\n",
       "      <td>0.3365</td>\n",
       "      <td>0.0</td>\n",
       "      <td>0.240</td>\n",
       "      <td>4</td>\n",
       "    </tr>\n",
       "    <tr>\n",
       "      <th>7</th>\n",
       "      <td>7</td>\n",
       "      <td>181.249508</td>\n",
       "      <td>26.832487</td>\n",
       "      <td>25.4978</td>\n",
       "      <td>0.1656</td>\n",
       "      <td>0.0</td>\n",
       "      <td>0.150</td>\n",
       "      <td>4</td>\n",
       "    </tr>\n",
       "    <tr>\n",
       "      <th>8</th>\n",
       "      <td>8</td>\n",
       "      <td>181.178630</td>\n",
       "      <td>26.832522</td>\n",
       "      <td>27.2405</td>\n",
       "      <td>0.5672</td>\n",
       "      <td>0.0</td>\n",
       "      <td>0.414</td>\n",
       "      <td>4</td>\n",
       "    </tr>\n",
       "    <tr>\n",
       "      <th>9</th>\n",
       "      <td>9</td>\n",
       "      <td>181.254735</td>\n",
       "      <td>26.832664</td>\n",
       "      <td>25.9563</td>\n",
       "      <td>0.2221</td>\n",
       "      <td>0.0</td>\n",
       "      <td>0.691</td>\n",
       "      <td>4</td>\n",
       "    </tr>\n",
       "    <tr>\n",
       "      <th>10</th>\n",
       "      <td>10</td>\n",
       "      <td>181.072861</td>\n",
       "      <td>26.832689</td>\n",
       "      <td>26.6038</td>\n",
       "      <td>0.3490</td>\n",
       "      <td>0.0</td>\n",
       "      <td>0.319</td>\n",
       "      <td>4</td>\n",
       "    </tr>\n",
       "    <tr>\n",
       "      <th>11</th>\n",
       "      <td>11</td>\n",
       "      <td>181.041615</td>\n",
       "      <td>26.832679</td>\n",
       "      <td>28.4291</td>\n",
       "      <td>1.5277</td>\n",
       "      <td>0.0</td>\n",
       "      <td>0.769</td>\n",
       "      <td>4</td>\n",
       "    </tr>\n",
       "    <tr>\n",
       "      <th>12</th>\n",
       "      <td>12</td>\n",
       "      <td>181.183489</td>\n",
       "      <td>26.832814</td>\n",
       "      <td>31.1614</td>\n",
       "      <td>17.8898</td>\n",
       "      <td>0.0</td>\n",
       "      <td>0.536</td>\n",
       "      <td>4</td>\n",
       "    </tr>\n",
       "    <tr>\n",
       "      <th>13</th>\n",
       "      <td>13</td>\n",
       "      <td>181.195831</td>\n",
       "      <td>26.832604</td>\n",
       "      <td>26.1574</td>\n",
       "      <td>0.2542</td>\n",
       "      <td>0.0</td>\n",
       "      <td>0.625</td>\n",
       "      <td>4</td>\n",
       "    </tr>\n",
       "    <tr>\n",
       "      <th>14</th>\n",
       "      <td>14</td>\n",
       "      <td>181.048605</td>\n",
       "      <td>26.832725</td>\n",
       "      <td>26.1091</td>\n",
       "      <td>0.2460</td>\n",
       "      <td>0.0</td>\n",
       "      <td>0.442</td>\n",
       "      <td>4</td>\n",
       "    </tr>\n",
       "    <tr>\n",
       "      <th>15</th>\n",
       "      <td>15</td>\n",
       "      <td>181.188020</td>\n",
       "      <td>26.832533</td>\n",
       "      <td>26.0348</td>\n",
       "      <td>0.2343</td>\n",
       "      <td>0.0</td>\n",
       "      <td>0.579</td>\n",
       "      <td>4</td>\n",
       "    </tr>\n",
       "    <tr>\n",
       "      <th>16</th>\n",
       "      <td>16</td>\n",
       "      <td>181.278183</td>\n",
       "      <td>26.832615</td>\n",
       "      <td>26.2425</td>\n",
       "      <td>0.2695</td>\n",
       "      <td>0.0</td>\n",
       "      <td>0.699</td>\n",
       "      <td>4</td>\n",
       "    </tr>\n",
       "    <tr>\n",
       "      <th>17</th>\n",
       "      <td>17</td>\n",
       "      <td>181.111723</td>\n",
       "      <td>26.832666</td>\n",
       "      <td>26.3510</td>\n",
       "      <td>0.2911</td>\n",
       "      <td>0.0</td>\n",
       "      <td>0.490</td>\n",
       "      <td>4</td>\n",
       "    </tr>\n",
       "    <tr>\n",
       "      <th>18</th>\n",
       "      <td>18</td>\n",
       "      <td>181.110134</td>\n",
       "      <td>26.832681</td>\n",
       "      <td>24.8726</td>\n",
       "      <td>0.1145</td>\n",
       "      <td>0.0</td>\n",
       "      <td>0.271</td>\n",
       "      <td>4</td>\n",
       "    </tr>\n",
       "    <tr>\n",
       "      <th>19</th>\n",
       "      <td>19</td>\n",
       "      <td>181.293613</td>\n",
       "      <td>26.832722</td>\n",
       "      <td>26.5708</td>\n",
       "      <td>0.3404</td>\n",
       "      <td>0.0</td>\n",
       "      <td>0.623</td>\n",
       "      <td>4</td>\n",
       "    </tr>\n",
       "    <tr>\n",
       "      <th>20</th>\n",
       "      <td>20</td>\n",
       "      <td>181.033635</td>\n",
       "      <td>26.832754</td>\n",
       "      <td>27.5220</td>\n",
       "      <td>0.7106</td>\n",
       "      <td>0.0</td>\n",
       "      <td>0.385</td>\n",
       "      <td>4</td>\n",
       "    </tr>\n",
       "    <tr>\n",
       "      <th>21</th>\n",
       "      <td>21</td>\n",
       "      <td>180.997383</td>\n",
       "      <td>26.832725</td>\n",
       "      <td>26.2042</td>\n",
       "      <td>0.2626</td>\n",
       "      <td>0.0</td>\n",
       "      <td>0.026</td>\n",
       "      <td>4</td>\n",
       "    </tr>\n",
       "    <tr>\n",
       "      <th>22</th>\n",
       "      <td>22</td>\n",
       "      <td>181.163911</td>\n",
       "      <td>26.832829</td>\n",
       "      <td>26.5628</td>\n",
       "      <td>0.3385</td>\n",
       "      <td>0.0</td>\n",
       "      <td>0.557</td>\n",
       "      <td>6</td>\n",
       "    </tr>\n",
       "    <tr>\n",
       "      <th>23</th>\n",
       "      <td>23</td>\n",
       "      <td>181.189443</td>\n",
       "      <td>26.832510</td>\n",
       "      <td>22.5164</td>\n",
       "      <td>0.0346</td>\n",
       "      <td>0.0</td>\n",
       "      <td>0.094</td>\n",
       "      <td>6</td>\n",
       "    </tr>\n",
       "    <tr>\n",
       "      <th>24</th>\n",
       "      <td>24</td>\n",
       "      <td>181.213913</td>\n",
       "      <td>26.832569</td>\n",
       "      <td>25.7618</td>\n",
       "      <td>0.1955</td>\n",
       "      <td>0.0</td>\n",
       "      <td>0.605</td>\n",
       "      <td>4</td>\n",
       "    </tr>\n",
       "    <tr>\n",
       "      <th>25</th>\n",
       "      <td>25</td>\n",
       "      <td>180.975695</td>\n",
       "      <td>26.832762</td>\n",
       "      <td>27.3205</td>\n",
       "      <td>0.6031</td>\n",
       "      <td>0.0</td>\n",
       "      <td>0.306</td>\n",
       "      <td>4</td>\n",
       "    </tr>\n",
       "    <tr>\n",
       "      <th>26</th>\n",
       "      <td>26</td>\n",
       "      <td>181.288148</td>\n",
       "      <td>26.832906</td>\n",
       "      <td>26.3174</td>\n",
       "      <td>0.2843</td>\n",
       "      <td>0.0</td>\n",
       "      <td>0.643</td>\n",
       "      <td>4</td>\n",
       "    </tr>\n",
       "    <tr>\n",
       "      <th>27</th>\n",
       "      <td>27</td>\n",
       "      <td>181.214382</td>\n",
       "      <td>26.832629</td>\n",
       "      <td>25.3311</td>\n",
       "      <td>0.1496</td>\n",
       "      <td>0.0</td>\n",
       "      <td>0.126</td>\n",
       "      <td>4</td>\n",
       "    </tr>\n",
       "    <tr>\n",
       "      <th>28</th>\n",
       "      <td>28</td>\n",
       "      <td>181.076639</td>\n",
       "      <td>26.832648</td>\n",
       "      <td>24.9945</td>\n",
       "      <td>0.1227</td>\n",
       "      <td>0.0</td>\n",
       "      <td>0.053</td>\n",
       "      <td>4</td>\n",
       "    </tr>\n",
       "    <tr>\n",
       "      <th>29</th>\n",
       "      <td>29</td>\n",
       "      <td>181.281966</td>\n",
       "      <td>26.832525</td>\n",
       "      <td>25.5510</td>\n",
       "      <td>0.1712</td>\n",
       "      <td>0.0</td>\n",
       "      <td>0.306</td>\n",
       "      <td>6</td>\n",
       "    </tr>\n",
       "    <tr>\n",
       "      <th>30</th>\n",
       "      <td>30</td>\n",
       "      <td>181.100257</td>\n",
       "      <td>26.832766</td>\n",
       "      <td>26.0999</td>\n",
       "      <td>0.2446</td>\n",
       "      <td>0.0</td>\n",
       "      <td>0.564</td>\n",
       "      <td>4</td>\n",
       "    </tr>\n",
       "    <tr>\n",
       "      <th>...</th>\n",
       "      <td>...</td>\n",
       "      <td>...</td>\n",
       "      <td>...</td>\n",
       "      <td>...</td>\n",
       "      <td>...</td>\n",
       "      <td>...</td>\n",
       "      <td>...</td>\n",
       "      <td>...</td>\n",
       "    </tr>\n",
       "    <tr>\n",
       "      <th>204484</th>\n",
       "      <td>204484</td>\n",
       "      <td>181.145846</td>\n",
       "      <td>27.874125</td>\n",
       "      <td>27.0226</td>\n",
       "      <td>0.4782</td>\n",
       "      <td>0.0</td>\n",
       "      <td>0.656</td>\n",
       "      <td>4</td>\n",
       "    </tr>\n",
       "    <tr>\n",
       "      <th>204485</th>\n",
       "      <td>204485</td>\n",
       "      <td>181.224287</td>\n",
       "      <td>27.879981</td>\n",
       "      <td>27.8458</td>\n",
       "      <td>0.9285</td>\n",
       "      <td>0.0</td>\n",
       "      <td>0.422</td>\n",
       "      <td>4</td>\n",
       "    </tr>\n",
       "    <tr>\n",
       "      <th>204486</th>\n",
       "      <td>204486</td>\n",
       "      <td>181.350521</td>\n",
       "      <td>27.878188</td>\n",
       "      <td>25.7989</td>\n",
       "      <td>0.2002</td>\n",
       "      <td>0.0</td>\n",
       "      <td>0.236</td>\n",
       "      <td>4</td>\n",
       "    </tr>\n",
       "    <tr>\n",
       "      <th>204487</th>\n",
       "      <td>204487</td>\n",
       "      <td>180.877448</td>\n",
       "      <td>27.878206</td>\n",
       "      <td>25.5320</td>\n",
       "      <td>0.1692</td>\n",
       "      <td>0.0</td>\n",
       "      <td>0.264</td>\n",
       "      <td>4</td>\n",
       "    </tr>\n",
       "    <tr>\n",
       "      <th>204488</th>\n",
       "      <td>204488</td>\n",
       "      <td>181.259413</td>\n",
       "      <td>27.879391</td>\n",
       "      <td>23.2641</td>\n",
       "      <td>0.0496</td>\n",
       "      <td>0.0</td>\n",
       "      <td>0.118</td>\n",
       "      <td>4</td>\n",
       "    </tr>\n",
       "    <tr>\n",
       "      <th>204489</th>\n",
       "      <td>204489</td>\n",
       "      <td>181.661621</td>\n",
       "      <td>27.869930</td>\n",
       "      <td>25.2396</td>\n",
       "      <td>0.1418</td>\n",
       "      <td>0.0</td>\n",
       "      <td>0.229</td>\n",
       "      <td>6</td>\n",
       "    </tr>\n",
       "    <tr>\n",
       "      <th>204490</th>\n",
       "      <td>204490</td>\n",
       "      <td>180.894093</td>\n",
       "      <td>27.878895</td>\n",
       "      <td>25.6833</td>\n",
       "      <td>0.1860</td>\n",
       "      <td>0.0</td>\n",
       "      <td>0.181</td>\n",
       "      <td>4</td>\n",
       "    </tr>\n",
       "    <tr>\n",
       "      <th>204491</th>\n",
       "      <td>204491</td>\n",
       "      <td>181.676058</td>\n",
       "      <td>27.873953</td>\n",
       "      <td>25.1909</td>\n",
       "      <td>0.1377</td>\n",
       "      <td>0.0</td>\n",
       "      <td>0.032</td>\n",
       "      <td>4</td>\n",
       "    </tr>\n",
       "    <tr>\n",
       "      <th>204492</th>\n",
       "      <td>204492</td>\n",
       "      <td>181.319789</td>\n",
       "      <td>27.879674</td>\n",
       "      <td>24.4425</td>\n",
       "      <td>0.0904</td>\n",
       "      <td>0.0</td>\n",
       "      <td>0.383</td>\n",
       "      <td>6</td>\n",
       "    </tr>\n",
       "    <tr>\n",
       "      <th>204493</th>\n",
       "      <td>204493</td>\n",
       "      <td>180.896015</td>\n",
       "      <td>27.877879</td>\n",
       "      <td>25.4933</td>\n",
       "      <td>0.1651</td>\n",
       "      <td>0.0</td>\n",
       "      <td>0.185</td>\n",
       "      <td>6</td>\n",
       "    </tr>\n",
       "    <tr>\n",
       "      <th>204494</th>\n",
       "      <td>204494</td>\n",
       "      <td>181.586147</td>\n",
       "      <td>27.875463</td>\n",
       "      <td>27.2353</td>\n",
       "      <td>0.5643</td>\n",
       "      <td>0.0</td>\n",
       "      <td>0.626</td>\n",
       "      <td>4</td>\n",
       "    </tr>\n",
       "    <tr>\n",
       "      <th>204495</th>\n",
       "      <td>204495</td>\n",
       "      <td>181.431012</td>\n",
       "      <td>27.872616</td>\n",
       "      <td>23.7497</td>\n",
       "      <td>0.0631</td>\n",
       "      <td>0.0</td>\n",
       "      <td>0.364</td>\n",
       "      <td>6</td>\n",
       "    </tr>\n",
       "    <tr>\n",
       "      <th>204496</th>\n",
       "      <td>204496</td>\n",
       "      <td>180.696085</td>\n",
       "      <td>27.876697</td>\n",
       "      <td>25.2142</td>\n",
       "      <td>0.1396</td>\n",
       "      <td>0.0</td>\n",
       "      <td>0.170</td>\n",
       "      <td>4</td>\n",
       "    </tr>\n",
       "    <tr>\n",
       "      <th>204497</th>\n",
       "      <td>204497</td>\n",
       "      <td>181.125627</td>\n",
       "      <td>27.880738</td>\n",
       "      <td>24.6973</td>\n",
       "      <td>0.1038</td>\n",
       "      <td>0.0</td>\n",
       "      <td>0.140</td>\n",
       "      <td>4</td>\n",
       "    </tr>\n",
       "    <tr>\n",
       "      <th>204498</th>\n",
       "      <td>204498</td>\n",
       "      <td>180.990615</td>\n",
       "      <td>27.880316</td>\n",
       "      <td>25.2503</td>\n",
       "      <td>0.1425</td>\n",
       "      <td>0.0</td>\n",
       "      <td>0.508</td>\n",
       "      <td>6</td>\n",
       "    </tr>\n",
       "    <tr>\n",
       "      <th>204499</th>\n",
       "      <td>204499</td>\n",
       "      <td>180.842516</td>\n",
       "      <td>27.879798</td>\n",
       "      <td>23.8433</td>\n",
       "      <td>0.0662</td>\n",
       "      <td>0.0</td>\n",
       "      <td>0.202</td>\n",
       "      <td>6</td>\n",
       "    </tr>\n",
       "    <tr>\n",
       "      <th>204500</th>\n",
       "      <td>204500</td>\n",
       "      <td>181.365032</td>\n",
       "      <td>27.876430</td>\n",
       "      <td>26.7409</td>\n",
       "      <td>0.3857</td>\n",
       "      <td>0.0</td>\n",
       "      <td>0.522</td>\n",
       "      <td>4</td>\n",
       "    </tr>\n",
       "    <tr>\n",
       "      <th>204501</th>\n",
       "      <td>204501</td>\n",
       "      <td>180.732675</td>\n",
       "      <td>27.875170</td>\n",
       "      <td>25.2959</td>\n",
       "      <td>0.1464</td>\n",
       "      <td>0.0</td>\n",
       "      <td>0.216</td>\n",
       "      <td>4</td>\n",
       "    </tr>\n",
       "    <tr>\n",
       "      <th>204502</th>\n",
       "      <td>204502</td>\n",
       "      <td>181.470604</td>\n",
       "      <td>27.875800</td>\n",
       "      <td>24.7663</td>\n",
       "      <td>0.1080</td>\n",
       "      <td>0.0</td>\n",
       "      <td>0.301</td>\n",
       "      <td>4</td>\n",
       "    </tr>\n",
       "    <tr>\n",
       "      <th>204503</th>\n",
       "      <td>204503</td>\n",
       "      <td>181.427141</td>\n",
       "      <td>27.873914</td>\n",
       "      <td>25.5489</td>\n",
       "      <td>0.1710</td>\n",
       "      <td>0.0</td>\n",
       "      <td>0.444</td>\n",
       "      <td>6</td>\n",
       "    </tr>\n",
       "    <tr>\n",
       "      <th>204504</th>\n",
       "      <td>204504</td>\n",
       "      <td>181.457358</td>\n",
       "      <td>27.875436</td>\n",
       "      <td>27.8291</td>\n",
       "      <td>0.9157</td>\n",
       "      <td>0.0</td>\n",
       "      <td>0.398</td>\n",
       "      <td>4</td>\n",
       "    </tr>\n",
       "    <tr>\n",
       "      <th>204505</th>\n",
       "      <td>204505</td>\n",
       "      <td>180.957785</td>\n",
       "      <td>27.878975</td>\n",
       "      <td>25.8044</td>\n",
       "      <td>0.2010</td>\n",
       "      <td>0.0</td>\n",
       "      <td>0.352</td>\n",
       "      <td>4</td>\n",
       "    </tr>\n",
       "    <tr>\n",
       "      <th>204506</th>\n",
       "      <td>204506</td>\n",
       "      <td>180.757779</td>\n",
       "      <td>27.875349</td>\n",
       "      <td>27.1605</td>\n",
       "      <td>0.5318</td>\n",
       "      <td>0.0</td>\n",
       "      <td>0.413</td>\n",
       "      <td>4</td>\n",
       "    </tr>\n",
       "    <tr>\n",
       "      <th>204507</th>\n",
       "      <td>204507</td>\n",
       "      <td>180.999286</td>\n",
       "      <td>27.879137</td>\n",
       "      <td>26.7244</td>\n",
       "      <td>0.3813</td>\n",
       "      <td>0.0</td>\n",
       "      <td>0.342</td>\n",
       "      <td>4</td>\n",
       "    </tr>\n",
       "    <tr>\n",
       "      <th>204508</th>\n",
       "      <td>204508</td>\n",
       "      <td>181.020422</td>\n",
       "      <td>27.874877</td>\n",
       "      <td>24.5320</td>\n",
       "      <td>0.0949</td>\n",
       "      <td>0.0</td>\n",
       "      <td>0.113</td>\n",
       "      <td>4</td>\n",
       "    </tr>\n",
       "    <tr>\n",
       "      <th>204509</th>\n",
       "      <td>204509</td>\n",
       "      <td>180.838550</td>\n",
       "      <td>27.878155</td>\n",
       "      <td>26.2767</td>\n",
       "      <td>0.2762</td>\n",
       "      <td>0.0</td>\n",
       "      <td>0.227</td>\n",
       "      <td>4</td>\n",
       "    </tr>\n",
       "    <tr>\n",
       "      <th>204510</th>\n",
       "      <td>204510</td>\n",
       "      <td>181.642089</td>\n",
       "      <td>27.877361</td>\n",
       "      <td>26.1683</td>\n",
       "      <td>0.2567</td>\n",
       "      <td>0.0</td>\n",
       "      <td>0.156</td>\n",
       "      <td>4</td>\n",
       "    </tr>\n",
       "    <tr>\n",
       "      <th>204511</th>\n",
       "      <td>204511</td>\n",
       "      <td>181.609039</td>\n",
       "      <td>27.872540</td>\n",
       "      <td>24.4004</td>\n",
       "      <td>0.0884</td>\n",
       "      <td>0.0</td>\n",
       "      <td>0.270</td>\n",
       "      <td>6</td>\n",
       "    </tr>\n",
       "    <tr>\n",
       "      <th>204512</th>\n",
       "      <td>204512</td>\n",
       "      <td>180.739303</td>\n",
       "      <td>27.873547</td>\n",
       "      <td>24.6778</td>\n",
       "      <td>0.1028</td>\n",
       "      <td>0.0</td>\n",
       "      <td>0.198</td>\n",
       "      <td>4</td>\n",
       "    </tr>\n",
       "    <tr>\n",
       "      <th>204513</th>\n",
       "      <td>204513</td>\n",
       "      <td>180.776028</td>\n",
       "      <td>27.877080</td>\n",
       "      <td>25.3152</td>\n",
       "      <td>0.1482</td>\n",
       "      <td>0.0</td>\n",
       "      <td>0.050</td>\n",
       "      <td>4</td>\n",
       "    </tr>\n",
       "  </tbody>\n",
       "</table>\n",
       "<p>203641 rows × 8 columns</p>\n",
       "</div>"
      ],
      "text/plain": [
       "        Unnamed: 0          ra        dec      mag     merr  fwhm  ellip  flag\n",
       "0                0  181.233028  26.832466  26.1346   0.2502   0.0  0.207     4\n",
       "1                1  181.213433  26.832490  26.3272   0.2863   0.0  0.505     4\n",
       "3                3  181.176011  26.832615  30.4840   9.6262   0.0  0.346     4\n",
       "4                4  181.163832  26.832683  27.0291   0.4807   0.0  0.383     6\n",
       "5                5  181.275251  26.832531  25.6579   0.1831   0.0  0.739     4\n",
       "6                6  181.140594  26.832592  26.5537   0.3365   0.0  0.240     4\n",
       "7                7  181.249508  26.832487  25.4978   0.1656   0.0  0.150     4\n",
       "8                8  181.178630  26.832522  27.2405   0.5672   0.0  0.414     4\n",
       "9                9  181.254735  26.832664  25.9563   0.2221   0.0  0.691     4\n",
       "10              10  181.072861  26.832689  26.6038   0.3490   0.0  0.319     4\n",
       "11              11  181.041615  26.832679  28.4291   1.5277   0.0  0.769     4\n",
       "12              12  181.183489  26.832814  31.1614  17.8898   0.0  0.536     4\n",
       "13              13  181.195831  26.832604  26.1574   0.2542   0.0  0.625     4\n",
       "14              14  181.048605  26.832725  26.1091   0.2460   0.0  0.442     4\n",
       "15              15  181.188020  26.832533  26.0348   0.2343   0.0  0.579     4\n",
       "16              16  181.278183  26.832615  26.2425   0.2695   0.0  0.699     4\n",
       "17              17  181.111723  26.832666  26.3510   0.2911   0.0  0.490     4\n",
       "18              18  181.110134  26.832681  24.8726   0.1145   0.0  0.271     4\n",
       "19              19  181.293613  26.832722  26.5708   0.3404   0.0  0.623     4\n",
       "20              20  181.033635  26.832754  27.5220   0.7106   0.0  0.385     4\n",
       "21              21  180.997383  26.832725  26.2042   0.2626   0.0  0.026     4\n",
       "22              22  181.163911  26.832829  26.5628   0.3385   0.0  0.557     6\n",
       "23              23  181.189443  26.832510  22.5164   0.0346   0.0  0.094     6\n",
       "24              24  181.213913  26.832569  25.7618   0.1955   0.0  0.605     4\n",
       "25              25  180.975695  26.832762  27.3205   0.6031   0.0  0.306     4\n",
       "26              26  181.288148  26.832906  26.3174   0.2843   0.0  0.643     4\n",
       "27              27  181.214382  26.832629  25.3311   0.1496   0.0  0.126     4\n",
       "28              28  181.076639  26.832648  24.9945   0.1227   0.0  0.053     4\n",
       "29              29  181.281966  26.832525  25.5510   0.1712   0.0  0.306     6\n",
       "30              30  181.100257  26.832766  26.0999   0.2446   0.0  0.564     4\n",
       "...            ...         ...        ...      ...      ...   ...    ...   ...\n",
       "204484      204484  181.145846  27.874125  27.0226   0.4782   0.0  0.656     4\n",
       "204485      204485  181.224287  27.879981  27.8458   0.9285   0.0  0.422     4\n",
       "204486      204486  181.350521  27.878188  25.7989   0.2002   0.0  0.236     4\n",
       "204487      204487  180.877448  27.878206  25.5320   0.1692   0.0  0.264     4\n",
       "204488      204488  181.259413  27.879391  23.2641   0.0496   0.0  0.118     4\n",
       "204489      204489  181.661621  27.869930  25.2396   0.1418   0.0  0.229     6\n",
       "204490      204490  180.894093  27.878895  25.6833   0.1860   0.0  0.181     4\n",
       "204491      204491  181.676058  27.873953  25.1909   0.1377   0.0  0.032     4\n",
       "204492      204492  181.319789  27.879674  24.4425   0.0904   0.0  0.383     6\n",
       "204493      204493  180.896015  27.877879  25.4933   0.1651   0.0  0.185     6\n",
       "204494      204494  181.586147  27.875463  27.2353   0.5643   0.0  0.626     4\n",
       "204495      204495  181.431012  27.872616  23.7497   0.0631   0.0  0.364     6\n",
       "204496      204496  180.696085  27.876697  25.2142   0.1396   0.0  0.170     4\n",
       "204497      204497  181.125627  27.880738  24.6973   0.1038   0.0  0.140     4\n",
       "204498      204498  180.990615  27.880316  25.2503   0.1425   0.0  0.508     6\n",
       "204499      204499  180.842516  27.879798  23.8433   0.0662   0.0  0.202     6\n",
       "204500      204500  181.365032  27.876430  26.7409   0.3857   0.0  0.522     4\n",
       "204501      204501  180.732675  27.875170  25.2959   0.1464   0.0  0.216     4\n",
       "204502      204502  181.470604  27.875800  24.7663   0.1080   0.0  0.301     4\n",
       "204503      204503  181.427141  27.873914  25.5489   0.1710   0.0  0.444     6\n",
       "204504      204504  181.457358  27.875436  27.8291   0.9157   0.0  0.398     4\n",
       "204505      204505  180.957785  27.878975  25.8044   0.2010   0.0  0.352     4\n",
       "204506      204506  180.757779  27.875349  27.1605   0.5318   0.0  0.413     4\n",
       "204507      204507  180.999286  27.879137  26.7244   0.3813   0.0  0.342     4\n",
       "204508      204508  181.020422  27.874877  24.5320   0.0949   0.0  0.113     4\n",
       "204509      204509  180.838550  27.878155  26.2767   0.2762   0.0  0.227     4\n",
       "204510      204510  181.642089  27.877361  26.1683   0.2567   0.0  0.156     4\n",
       "204511      204511  181.609039  27.872540  24.4004   0.0884   0.0  0.270     6\n",
       "204512      204512  180.739303  27.873547  24.6778   0.1028   0.0  0.198     4\n",
       "204513      204513  180.776028  27.877080  25.3152   0.1482   0.0  0.050     4\n",
       "\n",
       "[203641 rows x 8 columns]"
      ]
     },
     "execution_count": 39,
     "metadata": {},
     "output_type": "execute_result"
    }
   ],
   "source": [
    "new_catalog_cut"
   ]
  },
  {
   "cell_type": "code",
   "execution_count": 94,
   "metadata": {
    "collapsed": false
   },
   "outputs": [
    {
     "data": {
      "text/plain": [
       "0"
      ]
     },
     "execution_count": 94,
     "metadata": {},
     "output_type": "execute_result"
    }
   ],
   "source": [
    "directory = 'field_1/'\n",
    "file = directory+'NGVS_BG_1.G.fits'\n",
    "os.system(\"sex -c g.sex \" + file)"
   ]
  },
  {
   "cell_type": "code",
   "execution_count": 116,
   "metadata": {
    "collapsed": false
   },
   "outputs": [
    {
     "data": {
      "text/plain": [
       "212763"
      ]
     },
     "execution_count": 116,
     "metadata": {},
     "output_type": "execute_result"
    }
   ],
   "source": [
    "np.sum(se_g.mags['g'] < 99)"
   ]
  },
  {
   "cell_type": "code",
   "execution_count": 66,
   "metadata": {
    "collapsed": true
   },
   "outputs": [],
   "source": [
    "good = (se.mags['g'] < 90) & (se.mags['g_noback'] < 90)"
   ]
  },
  {
   "cell_type": "code",
   "execution_count": 67,
   "metadata": {
    "collapsed": false
   },
   "outputs": [],
   "source": [
    "diffs = se.mags['g'][good] - se.mags['g_noback'][good]"
   ]
  },
  {
   "cell_type": "code",
   "execution_count": 50,
   "metadata": {
    "collapsed": false
   },
   "outputs": [],
   "source": [
    "foo = {'foo_1':0.0,'foo_2':1.0,'foo_3':2.0}"
   ]
  },
  {
   "cell_type": "code",
   "execution_count": 72,
   "metadata": {
    "collapsed": false
   },
   "outputs": [
    {
     "data": {
      "text/plain": [
       "(-2, 2)"
      ]
     },
     "execution_count": 72,
     "metadata": {},
     "output_type": "execute_result"
    },
    {
     "data": {
      "image/png": "[encoded data removed]",
      "text/plain": [
       "<matplotlib.figure.Figure at 0x115bec390>"
      ]
     },
     "metadata": {},
     "output_type": "display_data"
    }
   ],
   "source": [
    "fig,ax = plt.subplots(figsize=(12,10))\n",
    "ax.scatter(se.mags['g'][good],diffs,s=0.05)\n",
    "ax.set_xlim(20,30)\n",
    "ax.set_ylim(-2,2)"
   ]
  },
  {
   "cell_type": "code",
   "execution_count": 73,
   "metadata": {
    "collapsed": true
   },
   "outputs": [],
   "source": [
    "foo = dict()"
   ]
  },
  {
   "cell_type": "code",
   "execution_count": 78,
   "metadata": {
    "collapsed": false
   },
   "outputs": [],
   "source": [
    "foo['a'] = 0.0\n",
    "foo['b'] = 1.0\n",
    "foo['c'] = 2.0"
   ]
  },
  {
   "cell_type": "code",
   "execution_count": 88,
   "metadata": {
    "collapsed": false
   },
   "outputs": [
    {
     "name": "stdout",
     "output_type": "stream",
     "text": [
      "0.0\n",
      "1.0\n",
      "2.0\n"
     ]
    }
   ],
   "source": [
    "keys = foo.keys()\n",
    "for i in range(len(list(keys))):\n",
    "    print(foo[list(keys)[i]])"
   ]
  },
  {
   "cell_type": "code",
   "execution_count": null,
   "metadata": {
    "collapsed": true
   },
   "outputs": [],
   "source": [
    "for i in range(len(list(keys))):\n",
    "    truth[:,i] = self.mags[list(keys)[i]] < 99"
   ]
  },
  {
   "cell_type": "code",
   "execution_count": 117,
   "metadata": {
    "collapsed": true
   },
   "outputs": [],
   "source": [
    "good_sources = (se_g.mags['g'] < 99) & \\\n",
    "        (se_g.mags['r'] < 99) & \\\n",
    "        (se_g.mags['i'] < 99) & \\\n",
    "        (se_g.flags['g'] < 1) & \\\n",
    "        (se_g.flags['r'] < 1) &\\\n",
    "        (se_g.flags['i'] < 1)"
   ]
  },
  {
   "cell_type": "code",
   "execution_count": 119,
   "metadata": {
    "collapsed": false
   },
   "outputs": [
    {
     "data": {
      "text/plain": [
       "80791"
      ]
     },
     "execution_count": 119,
     "metadata": {},
     "output_type": "execute_result"
    }
   ],
   "source": [
    "np.sum(good_sources)"
   ]
  },
  {
   "cell_type": "code",
   "execution_count": 134,
   "metadata": {
    "collapsed": false
   },
   "outputs": [
    {
     "data": {
      "image/png": "[encoded data removed]",
      "text/plain": [
       "<matplotlib.figure.Figure at 0x116001f98>"
      ]
     },
     "metadata": {},
     "output_type": "display_data"
    }
   ],
   "source": [
    "hist = plt.hist(se_g.fwhm['g'],range=(0,0.002),bins=50)"
   ]
  },
  {
   "cell_type": "code",
   "execution_count": null,
   "metadata": {
    "collapsed": true
   },
   "outputs": [],
   "source": []
  }
 ],
 "metadata": {
  "anaconda-cloud": {},
  "kernelspec": {
   "display_name": "Python [astro]",
   "language": "python",
   "name": "Python [astro]"
  },
  "language_info": {
   "codemirror_mode": {
    "name": "ipython",
    "version": 3
   },
   "file_extension": ".py",
   "mimetype": "text/x-python",
   "name": "python",
   "nbconvert_exporter": "python",
   "pygments_lexer": "ipython3",
   "version": "3.5.2"
  }
 },
 "nbformat": 4,
 "nbformat_minor": 0
}
