{
 "cells": [
  {
   "cell_type": "markdown",
   "metadata": {},
   "source": [
    "### Notebook to calculate image-by-image zeropoints. "
   ]
  },
  {
   "cell_type": "code",
   "execution_count": 34,
   "metadata": {
    "collapsed": false
   },
   "outputs": [],
   "source": [
    "#standard imports\n",
    "%matplotlib inline\n",
    "import numpy as np\n",
    "\n",
    "from astroquery.vizier import Vizier\n",
    "import astropy.coordinates as coords\n",
    "from astropy.coordinates import Angle\n",
    "import astropy.units as u\n",
    "\n",
    "import matplotlib.pyplot as plt\n",
    "import seaborn as sea\n",
    "\n",
    "Vizier.ROW_LIMIT = 999999999\n",
    "\n",
    "def write_reg(ra,dec,size='2\"',color='green',shape='circle',filename='regions.reg', width=1):\n",
    "    f = open(filename,'w')\n",
    "    f.write('fk5\\n')\n",
    "    for i,j in zip(ra,dec):\n",
    "        f.write(shape+' '+str(i)+' '+str(j)+' '+size+' # color='+color+ ' width='+str(width)+'\\n')\n",
    "    f.close()     "
   ]
  },
  {
   "cell_type": "markdown",
   "metadata": {},
   "source": [
    "## Query Vizier to select all SDSS sources about the images. "
   ]
  },
  {
   "cell_type": "code",
   "execution_count": 35,
   "metadata": {
    "collapsed": true
   },
   "outputs": [],
   "source": [
    "#specify the ra and dec to search about. Just pick coordinates in the middle of the image.\n",
    "search_ra = 202.09615 *u.degree\n",
    "search_dec = 21.000972 * u.degree\n",
    "\n",
    "#specify the search radius, just pick big enough region. Needs to be bigger for CFHT imaging compared to SDSS.\n",
    "search_rad = 1.5 * u.degree\n",
    "\n",
    "#specify the filter to use for sdss (i.e. 'gmag','rmag','imag')\n",
    "filt = 'g'\n",
    "\n",
    "#specify the bright and faint cuts for sdss phot comparison (these should be fairly constant across images)\n",
    "sdss_faint_cut = 20\n",
    "sdss_bright_cut = 16\n",
    "\n",
    "#specify the data file that contains our photometry\n",
    "phot_file = 'bg1_g_uncorrected.csv'\n",
    "\n",
    "#specify the cuts for our photometry to calcualte zero-points. These should probably match those used for \n",
    "#calculating the aperture corrections.\n",
    "fwhm_max = 4.5\n",
    "fwhm_min = 4.1\n",
    "faint_cut = 21\n",
    "bright_cut = 17\n",
    "\n",
    "#specify the aperture correction that we use for this image.\n",
    "aper_cor = 0.3429\n",
    "\n",
    "#fg extinction: input the foreground extinction for this particular filter at this pointing. reasonable approxiamtion\n",
    "#to just take constant value from NASA NED.\n",
    "fg_extinction = 0.065\n",
    "\n",
    "#specify the initial zeropoint that was used for initial photometry. this is whatever is in the .seconfig file\n",
    "#for aperture corrections.\n",
    "init_zpt = 30.0"
   ]
  },
  {
   "cell_type": "code",
   "execution_count": 36,
   "metadata": {
    "collapsed": false
   },
   "outputs": [],
   "source": [
    "#perform the vizier query\n",
    "pos = coords.SkyCoord(ra=search_ra, dec=search_dec, frame='icrs')\n",
    "result = Vizier.query_region(pos, radius=search_rad, catalog='SDSS')\n",
    "\n",
    "ra = result[0]['_RAJ2000']\n",
    "dec = result[0]['_DEJ2000']"
   ]
  },
  {
   "cell_type": "code",
   "execution_count": 37,
   "metadata": {
    "collapsed": false
   },
   "outputs": [],
   "source": [
    "#Select reasonable stars from SDSS for zero-point comparisons. Also, only select\n",
    "#stars to do the comparison (SDSS class ==6)\n",
    "good_sdss_sources = (result[0]['cl'] == 6) & \\\n",
    "    (result[0][filt+'mag'] < sdss_faint_cut) & (result[0][filt+'mag'] > sdss_bright_cut)"
   ]
  },
  {
   "cell_type": "code",
   "execution_count": 38,
   "metadata": {
    "collapsed": false
   },
   "outputs": [
    {
     "data": {
      "text/plain": [
       "7151"
      ]
     },
     "execution_count": 38,
     "metadata": {},
     "output_type": "execute_result"
    }
   ],
   "source": [
    "#print out the number of good comparisons for testing purposes\n",
    "np.sum(good_sdss_sources)"
   ]
  },
  {
   "cell_type": "code",
   "execution_count": 39,
   "metadata": {
    "collapsed": false
   },
   "outputs": [],
   "source": [
    "#write out a region file containing the good comparisons, for reference\n",
    "write_reg(ra[good_sdss_sources],dec[good_sdss_sources],filename='sdss_matched_'+filt+'.reg',width=5,size='5\"')"
   ]
  },
  {
   "cell_type": "code",
   "execution_count": 40,
   "metadata": {
    "collapsed": false
   },
   "outputs": [],
   "source": [
    "#read in our photometry\n",
    "data = np.loadtxt(phot_file,delimiter=',')"
   ]
  },
  {
   "cell_type": "code",
   "execution_count": 41,
   "metadata": {
    "collapsed": false
   },
   "outputs": [],
   "source": [
    "#cut our data to select only good comparison stars.\n",
    "good_data = (data[:,2] < faint_cut) & (data[:,2] > bright_cut) & \\\n",
    "    (data[:,4] > fwhm_min) & (data[:,4] < fwhm_max) & (data[:,6] < 1)\n",
    "    \n",
    "cut_data = data[good_data,:]\n",
    "\n",
    "#apply aperture and extinction corrections to our measured photometry\n",
    "cut_data[:,2] = cut_data[:,2] - aper_cor - fg_extinction"
   ]
  },
  {
   "cell_type": "code",
   "execution_count": 42,
   "metadata": {
    "collapsed": false
   },
   "outputs": [],
   "source": [
    "#match our photometry with corresponding sources in SDSS\n",
    "ra_meas = cut_data[:,0]\n",
    "dec_meas = cut_data[:,1]\n",
    "\n",
    "measured_coords = coords.SkyCoord(ra=ra_meas*u.degree,\\\n",
    "    dec=dec_meas*u.degree)\n",
    "\n",
    "sdss_coords = coords.SkyCoord(ra=ra[good_sdss_sources],dec=dec[good_sdss_sources])\n",
    "\n",
    "full_old,full_new,d2d,d3d = sdss_coords.search_around_sky(measured_coords,0.1*u.arcsec)"
   ]
  },
  {
   "cell_type": "code",
   "execution_count": 43,
   "metadata": {
    "collapsed": false
   },
   "outputs": [],
   "source": [
    "#calculate differences between our measured photometry\n",
    "diffs = cut_data[full_old,2] - (result[0][filt+'mag'][good_sdss_sources][full_new])\n",
    "                      # - 0.085*(result[0]['rmag'][good_comps][full_new] - result[0]['imag'][good_comps][full_new]))"
   ]
  },
  {
   "cell_type": "code",
   "execution_count": 44,
   "metadata": {
    "collapsed": false
   },
   "outputs": [
    {
     "data": {
      "text/plain": [
       "<matplotlib.collections.PathCollection at 0x11aac6be0>"
      ]
     },
     "execution_count": 44,
     "metadata": {},
     "output_type": "execute_result"
    },
    {
     "data": {
      "image/png": "[encoded data removed]",
      "text/plain": [
       "<matplotlib.figure.Figure at 0x132e22e80>"
      ]
     },
     "metadata": {},
     "output_type": "display_data"
    }
   ],
   "source": [
    "\n",
    "fig,ax = plt.subplots(figsize=(10,5))\n",
    "ax.scatter(cut_data[full_old,2],diffs,s=2)\n"
   ]
  },
  {
   "cell_type": "markdown",
   "metadata": {},
   "source": [
    "### Calculate the final shift. Actual zeropoint is whatever was used to make initial catalog plus the below value."
   ]
  },
  {
   "cell_type": "code",
   "execution_count": 45,
   "metadata": {
    "collapsed": false
   },
   "outputs": [
    {
     "name": "stdout",
     "output_type": "stream",
     "text": [
      "Zero-point shift:  -0.359449610901\n"
     ]
    },
    {
     "ename": "NameError",
     "evalue": "name 'init_zpts' is not defined",
     "output_type": "error",
     "traceback": [
      "\u001b[0;31m---------------------------------------------------------------------------\u001b[0m",
      "\u001b[0;31mNameError\u001b[0m                                 Traceback (most recent call last)",
      "\u001b[0;32m<ipython-input-45-2bc41f377b20>\u001b[0m in \u001b[0;36m<module>\u001b[0;34m()\u001b[0m\n\u001b[1;32m      1\u001b[0m \u001b[0mzpt_shift\u001b[0m \u001b[0;34m=\u001b[0m \u001b[0mnp\u001b[0m\u001b[0;34m.\u001b[0m\u001b[0mmedian\u001b[0m\u001b[0;34m(\u001b[0m\u001b[0mdiffs\u001b[0m\u001b[0;34m)\u001b[0m\u001b[0;34m\u001b[0m\u001b[0m\n\u001b[1;32m      2\u001b[0m \u001b[0mprint\u001b[0m\u001b[0;34m(\u001b[0m\u001b[0;34m'Zero-point shift: '\u001b[0m\u001b[0;34m,\u001b[0m\u001b[0mzpt_shift\u001b[0m\u001b[0;34m)\u001b[0m\u001b[0;34m\u001b[0m\u001b[0m\n\u001b[0;32m----> 3\u001b[0;31m \u001b[0mprint\u001b[0m\u001b[0;34m(\u001b[0m\u001b[0;34m'New zero-point: '\u001b[0m\u001b[0;34m,\u001b[0m\u001b[0mzpt_shift\u001b[0m \u001b[0;34m+\u001b[0m \u001b[0minit_zpts\u001b[0m\u001b[0;34m)\u001b[0m\u001b[0;34m\u001b[0m\u001b[0m\n\u001b[0m",
      "\u001b[0;31mNameError\u001b[0m: name 'init_zpts' is not defined"
     ]
    }
   ],
   "source": [
    "zpt_shift = np.median(diffs)\n",
    "print('Zero-point shift: ',zpt_shift)\n",
    "print('New zero-point: ',zpt_shift + init_zpts)"
   ]
  },
  {
   "cell_type": "code",
   "execution_count": null,
   "metadata": {
    "collapsed": true
   },
   "outputs": [],
   "source": []
  }
 ],
 "metadata": {
  "anaconda-cloud": {},
  "kernelspec": {
   "display_name": "Python [astro]",
   "language": "python",
   "name": "Python [astro]"
  },
  "language_info": {
   "codemirror_mode": {
    "name": "ipython",
    "version": 3
   },
   "file_extension": ".py",
   "mimetype": "text/x-python",
   "name": "python",
   "nbconvert_exporter": "python",
   "pygments_lexer": "ipython3",
   "version": "3.5.2"
  }
 },
 "nbformat": 4,
 "nbformat_minor": 1
}
