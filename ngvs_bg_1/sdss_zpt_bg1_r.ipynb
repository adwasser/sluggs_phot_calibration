{
 "cells": [
  {
   "cell_type": "markdown",
   "metadata": {},
   "source": [
    "### Notebook to calculate image-by-image zeropoints. "
   ]
  },
  {
   "cell_type": "code",
   "execution_count": 1,
   "metadata": {
    "collapsed": false
   },
   "outputs": [],
   "source": [
    "#standard imports\n",
    "%matplotlib inline\n",
    "import numpy as np\n",
    "\n",
    "from astroquery.vizier import Vizier\n",
    "import astropy.coordinates as coords\n",
    "from astropy.coordinates import Angle\n",
    "import astropy.units as u\n",
    "\n",
    "import matplotlib.pyplot as plt\n",
    "import seaborn as sea\n",
    "\n",
    "Vizier.ROW_LIMIT = 999999999\n",
    "\n",
    "def write_reg(ra,dec,size='2\"',color='green',shape='circle',filename='regions.reg', width=1):\n",
    "    f = open(filename,'w')\n",
    "    f.write('fk5\\n')\n",
    "    for i,j in zip(ra,dec):\n",
    "        f.write(shape+' '+str(i)+' '+str(j)+' '+size+' # color='+color+ ' width='+str(width)+'\\n')\n",
    "    f.close()     "
   ]
  },
  {
   "cell_type": "markdown",
   "metadata": {},
   "source": [
    "### Vizier query to select all SDSS sources about the images. "
   ]
  },
  {
   "cell_type": "code",
   "execution_count": null,
   "metadata": {
    "collapsed": true
   },
   "outputs": [],
   "source": [
    "#specify the ra and dec to search about. Just pick coordinates in the middle of the image.\n",
    "search_ra = 202.09615 *u.degree\n",
    "search_dec = 21.000972 * u.degree\n",
    "\n",
    "#specify the search radius, just pick big enough region. Needs to be bigger for CFHT imaging compared to SDSS.\n",
    "search_rad = 1.5 * u.degree"
   ]
  },
  {
   "cell_type": "code",
   "execution_count": null,
   "metadata": {
    "collapsed": false
   },
   "outputs": [],
   "source": [
    "#perform the vizier query\n",
    "pos = coords.SkyCoord(ra=search_ra, dec=search_dec, frame='icrs')\n",
    "result = Vizier.query_region(pos, radius=search_rad, catalog='SDSS')\n",
    "\n",
    "ra = result[0]['_RAJ2000']\n",
    "dec = result[0]['_DEJ2000']"
   ]
  },
  {
   "cell_type": "code",
   "execution_count": null,
   "metadata": {
    "collapsed": false
   },
   "outputs": [],
   "source": [
    "#pick reasonable SDSS limiting magnitudes and selection cuts to calculate the zeropoint. Also, only select\n",
    "#stars to do the comparison (SDSS class ==6)\n",
    "sdss_faint_cut = 20\n",
    "sdss_bright_cut = 16\n",
    "filt = 'rmag'\n",
    "\n",
    "good_sdss_sources = (result[0]['cl'] == 6) & \\\n",
    "    (result[0][filt] < sdss_faint_cut) & (result[0][filt] > sdss_bright_cut)"
   ]
  },
  {
   "cell_type": "code",
   "execution_count": null,
   "metadata": {
    "collapsed": false
   },
   "outputs": [],
   "source": [
    "#print out the number of good comparisons for testing purposes\n",
    "np.sum(good_comps)"
   ]
  },
  {
   "cell_type": "code",
   "execution_count": null,
   "metadata": {
    "collapsed": false
   },
   "outputs": [],
   "source": [
    "#write out a region file containing the \n",
    "write_reg(ra[good_comps],dec[good_comps],filename='sdss_bright_r.reg',width=5,size='5\"')"
   ]
  },
  {
   "cell_type": "code",
   "execution_count": null,
   "metadata": {
    "collapsed": false
   },
   "outputs": [],
   "source": [
    "data = np.loadtxt('bg1_r_uncorrected.csv',delimiter=',')"
   ]
  },
  {
   "cell_type": "code",
   "execution_count": null,
   "metadata": {
    "collapsed": false
   },
   "outputs": [],
   "source": [
    "good_data = (data[:,2] < 23) & (data[:,2] > 14) & (data[:,4] > 2.8) & (data[:,4] < 3.2) & (data[:,6] < 1)"
   ]
  },
  {
   "cell_type": "code",
   "execution_count": null,
   "metadata": {
    "collapsed": false
   },
   "outputs": [],
   "source": [
    "cut_data = data[good_data,:]\n",
    "cut_data[:,2] = cut_data[:,2] - 0.33645 - 0.037"
   ]
  },
  {
   "cell_type": "code",
   "execution_count": null,
   "metadata": {
    "collapsed": false
   },
   "outputs": [],
   "source": [
    "ra_meas = cut_data[:,0]\n",
    "dec_meas = cut_data[:,1]"
   ]
  },
  {
   "cell_type": "code",
   "execution_count": null,
   "metadata": {
    "collapsed": true
   },
   "outputs": [],
   "source": [
    "measured_coords = coords.SkyCoord(ra=ra_meas*u.degree,\\\n",
    "    dec=dec_meas*u.degree)"
   ]
  },
  {
   "cell_type": "code",
   "execution_count": null,
   "metadata": {
    "collapsed": false
   },
   "outputs": [],
   "source": [
    "sdss_coords = coords.SkyCoord(ra=ra[good_comps],dec=dec[good_comps])"
   ]
  },
  {
   "cell_type": "code",
   "execution_count": 154,
   "metadata": {
    "collapsed": false
   },
   "outputs": [],
   "source": [
    "full_old,full_new,d2d,d3d = sdss_coords.search_around_sky(measured_coords,0.1*u.arcsec)"
   ]
  },
  {
   "cell_type": "code",
   "execution_count": null,
   "metadata": {
    "collapsed": false
   },
   "outputs": [],
   "source": [
    "diffs = cut_data[full_old,2] - (result[0][filt][good_comps][full_new])\n",
    "                      # - 0.085*(result[0]['rmag'][good_comps][full_new] - result[0]['imag'][good_comps][full_new]))"
   ]
  },
  {
   "cell_type": "code",
   "execution_count": null,
   "metadata": {
    "collapsed": false
   },
   "outputs": [],
   "source": [
    "fig,ax = plt.subplots(figsize=(10,5))\n",
    "ax.scatter(cut_data[full_old,2],diffs,s=2)\n"
   ]
  },
  {
   "cell_type": "markdown",
   "metadata": {},
   "source": [
    "### Calculate the final shift. Actual zeropoint is whatever was used to make initial catalog plus the below value."
   ]
  },
  {
   "cell_type": "code",
   "execution_count": 157,
   "metadata": {
    "collapsed": false
   },
   "outputs": [
    {
     "name": "stdout",
     "output_type": "stream",
     "text": [
      "-0.000500175476072\n"
     ]
    }
   ],
   "source": [
    "zpt_shift = np.median(diffs)\n",
    "print(zpt_shift)"
   ]
  },
  {
   "cell_type": "code",
   "execution_count": null,
   "metadata": {
    "collapsed": true
   },
   "outputs": [],
   "source": []
  }
 ],
 "metadata": {
  "anaconda-cloud": {},
  "kernelspec": {
   "display_name": "Python [astro]",
   "language": "python",
   "name": "Python [astro]"
  },
  "language_info": {
   "codemirror_mode": {
    "name": "ipython",
    "version": 3
   },
   "file_extension": ".py",
   "mimetype": "text/x-python",
   "name": "python",
   "nbconvert_exporter": "python",
   "pygments_lexer": "ipython3",
   "version": "3.5.2"
  }
 },
 "nbformat": 4,
 "nbformat_minor": 1
}
